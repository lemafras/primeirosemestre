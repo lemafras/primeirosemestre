{
 "cells": [
  {
   "cell_type": "markdown",
   "metadata": {},
   "source": [
    "# **MODELAGEM DE FENÔMENOS FÍSICOS**\n"
   ]
  },
  {
   "cell_type": "markdown",
   "metadata": {},
   "source": [
    "Pacote LaTeX para utilizar na linguagem Markdown https://oeis.org/wiki/List_of_LaTeX_mathematical_symbols"
   ]
  },
  {
   "cell_type": "markdown",
   "metadata": {},
   "source": [
    "### **AULA 1 - 20/02/2020**"
   ]
  },
  {
   "cell_type": "markdown",
   "metadata": {},
   "source": [
    "Anotações  das aulas de **Modelagem de Fenômenos Físicos** para exibir *textos formatados*, programas em ***Python*** e gráficos. \n",
    "\n",
    "Formataremos também textos matemáticos: $2 + 7$. Além do *Teorema de Pitágoras* que é: $a^2=b^2+c^2$"
   ]
  },
  {
   "cell_type": "code",
   "execution_count": 1,
   "metadata": {},
   "outputs": [
    {
     "data": {
      "text/plain": [
       "4"
      ]
     },
     "execution_count": 1,
     "metadata": {},
     "output_type": "execute_result"
    }
   ],
   "source": [
    "2 + 2"
   ]
  },
  {
   "cell_type": "markdown",
   "metadata": {},
   "source": [
    "##### **ATALHOS:**"
   ]
  },
  {
   "cell_type": "markdown",
   "metadata": {},
   "source": [
    "**ESC + M** para *MARKDOWN*"
   ]
  },
  {
   "cell_type": "markdown",
   "metadata": {},
   "source": [
    "**ESC + B** para CÉLULA ABAIXO"
   ]
  },
  {
   "cell_type": "markdown",
   "metadata": {},
   "source": [
    "**ESC + A** para CÉLULA ACIMA"
   ]
  },
  {
   "cell_type": "markdown",
   "metadata": {},
   "source": [
    "**SHIFT + ENTER** para EXECUTAR CÉLULA"
   ]
  },
  {
   "cell_type": "markdown",
   "metadata": {},
   "source": [
    "### **AULA 2 - 21/02/2020**"
   ]
  },
  {
   "cell_type": "markdown",
   "metadata": {},
   "source": [
    "Estudo de funções em Python. Exemplo: $f(x)=2x.$"
   ]
  },
  {
   "cell_type": "code",
   "execution_count": 2,
   "metadata": {},
   "outputs": [],
   "source": [
    "def dobro(x):\n",
    "    return 2*x"
   ]
  },
  {
   "cell_type": "code",
   "execution_count": 4,
   "metadata": {},
   "outputs": [
    {
     "data": {
      "text/plain": [
       "11.74"
      ]
     },
     "execution_count": 4,
     "metadata": {},
     "output_type": "execute_result"
    }
   ],
   "source": [
    "dobro(5.87)"
   ]
  },
  {
   "cell_type": "code",
   "execution_count": 6,
   "metadata": {},
   "outputs": [],
   "source": [
    "def soma(x, y):\n",
    "    return x + y"
   ]
  },
  {
   "cell_type": "code",
   "execution_count": 7,
   "metadata": {},
   "outputs": [
    {
     "data": {
      "text/plain": [
       "5"
      ]
     },
     "execution_count": 7,
     "metadata": {},
     "output_type": "execute_result"
    }
   ],
   "source": [
    "soma(2, 3)"
   ]
  },
  {
   "cell_type": "code",
   "execution_count": 8,
   "metadata": {},
   "outputs": [
    {
     "data": {
      "text/plain": [
       "10"
      ]
     },
     "execution_count": 8,
     "metadata": {},
     "output_type": "execute_result"
    }
   ],
   "source": [
    "soma(3, 7)"
   ]
  },
  {
   "cell_type": "code",
   "execution_count": 11,
   "metadata": {},
   "outputs": [
    {
     "data": {
      "text/plain": [
       "1280000000"
      ]
     },
     "execution_count": 11,
     "metadata": {},
     "output_type": "execute_result"
    }
   ],
   "source": [
    "dobro(10)**soma(2, 5)"
   ]
  },
  {
   "cell_type": "markdown",
   "metadata": {},
   "source": [
    "#### Operadores em Python são **POLIMORFOS**. \n",
    "Exemplo:"
   ]
  },
  {
   "cell_type": "code",
   "execution_count": 14,
   "metadata": {},
   "outputs": [
    {
     "data": {
      "text/plain": [
       "['Maria Teixeira', 10]"
      ]
     },
     "execution_count": 14,
     "metadata": {},
     "output_type": "execute_result"
    }
   ],
   "source": [
    "[soma(\"Maria \" , \"Teixeira\"), soma(2, 8)]"
   ]
  },
  {
   "cell_type": "code",
   "execution_count": 21,
   "metadata": {},
   "outputs": [],
   "source": [
    "def dobro(x):\n",
    "    return 2*x\n",
    "\n",
    "def soma(x, y):\n",
    "    return x + y"
   ]
  },
  {
   "cell_type": "code",
   "execution_count": 20,
   "metadata": {},
   "outputs": [
    {
     "data": {
      "text/plain": [
       "['ABCABC', 'ABCABC']"
      ]
     },
     "execution_count": 20,
     "metadata": {},
     "output_type": "execute_result"
    }
   ],
   "source": [
    "[dobro(\"ABC\"), soma(\"ABC\", \"ABC\")]"
   ]
  },
  {
   "cell_type": "markdown",
   "metadata": {},
   "source": [
    "#### Variáveis em **Python** não tem *tipo*: (string, número..)\n",
    "**Valores são tipados:** *(Número real: float = 70; string = \"setenta quilos\"; lista = 70, 'Kg')*"
   ]
  },
  {
   "cell_type": "code",
   "execution_count": 35,
   "metadata": {},
   "outputs": [],
   "source": [
    "peso_do_Joao = 70"
   ]
  },
  {
   "cell_type": "code",
   "execution_count": 36,
   "metadata": {},
   "outputs": [
    {
     "data": {
      "text/plain": [
       "70"
      ]
     },
     "execution_count": 36,
     "metadata": {},
     "output_type": "execute_result"
    }
   ],
   "source": [
    "peso_do_Joao"
   ]
  },
  {
   "cell_type": "code",
   "execution_count": null,
   "metadata": {},
   "outputs": [],
   "source": []
  },
  {
   "cell_type": "code",
   "execution_count": 1,
   "metadata": {},
   "outputs": [
    {
     "data": {
      "text/plain": [
       "'setenta quilos'"
      ]
     },
     "execution_count": 1,
     "metadata": {},
     "output_type": "execute_result"
    }
   ],
   "source": [
    "peso_do_Joao = \"setenta quilos\"\n",
    "peso_do_Joao"
   ]
  },
  {
   "cell_type": "code",
   "execution_count": null,
   "metadata": {},
   "outputs": [],
   "source": []
  },
  {
   "cell_type": "code",
   "execution_count": 2,
   "metadata": {},
   "outputs": [
    {
     "data": {
      "text/plain": [
       "[70, 'Kg']"
      ]
     },
     "execution_count": 2,
     "metadata": {},
     "output_type": "execute_result"
    }
   ],
   "source": [
    "peso_do_Joao = [70, \"Kg\"]\n",
    "peso_do_Joao"
   ]
  },
  {
   "cell_type": "code",
   "execution_count": null,
   "metadata": {},
   "outputs": [],
   "source": []
  },
  {
   "cell_type": "code",
   "execution_count": 37,
   "metadata": {},
   "outputs": [
    {
     "data": {
      "text/plain": [
       "True"
      ]
     },
     "execution_count": 37,
     "metadata": {},
     "output_type": "execute_result"
    }
   ],
   "source": [
    "5 == 5"
   ]
  },
  {
   "cell_type": "code",
   "execution_count": 39,
   "metadata": {},
   "outputs": [
    {
     "data": {
      "text/plain": [
       "False"
      ]
     },
     "execution_count": 39,
     "metadata": {},
     "output_type": "execute_result"
    }
   ],
   "source": [
    "5 == 8"
   ]
  },
  {
   "cell_type": "code",
   "execution_count": 40,
   "metadata": {},
   "outputs": [],
   "source": [
    "peso_do_Joao = 5"
   ]
  },
  {
   "cell_type": "code",
   "execution_count": 41,
   "metadata": {},
   "outputs": [
    {
     "data": {
      "text/plain": [
       "True"
      ]
     },
     "execution_count": 41,
     "metadata": {},
     "output_type": "execute_result"
    }
   ],
   "source": [
    "peso_do_Joao == 5"
   ]
  },
  {
   "cell_type": "code",
   "execution_count": 42,
   "metadata": {},
   "outputs": [
    {
     "data": {
      "text/plain": [
       "False"
      ]
     },
     "execution_count": 42,
     "metadata": {},
     "output_type": "execute_result"
    }
   ],
   "source": [
    "5 != 5"
   ]
  },
  {
   "cell_type": "code",
   "execution_count": 43,
   "metadata": {},
   "outputs": [
    {
     "data": {
      "text/plain": [
       "True"
      ]
     },
     "execution_count": 43,
     "metadata": {},
     "output_type": "execute_result"
    }
   ],
   "source": [
    "5 != 8"
   ]
  },
  {
   "cell_type": "code",
   "execution_count": 44,
   "metadata": {},
   "outputs": [
    {
     "data": {
      "text/plain": [
       "True"
      ]
     },
     "execution_count": 44,
     "metadata": {},
     "output_type": "execute_result"
    }
   ],
   "source": [
    "not(5 != 5)"
   ]
  },
  {
   "cell_type": "code",
   "execution_count": 45,
   "metadata": {},
   "outputs": [
    {
     "data": {
      "text/plain": [
       "False"
      ]
     },
     "execution_count": 45,
     "metadata": {},
     "output_type": "execute_result"
    }
   ],
   "source": [
    "not(5 != 8)"
   ]
  },
  {
   "cell_type": "code",
   "execution_count": null,
   "metadata": {},
   "outputs": [],
   "source": [
    "true"
   ]
  },
  {
   "cell_type": "code",
   "execution_count": 46,
   "metadata": {},
   "outputs": [
    {
     "data": {
      "text/plain": [
       "True"
      ]
     },
     "execution_count": 46,
     "metadata": {},
     "output_type": "execute_result"
    }
   ],
   "source": [
    "(5 == 5) and (\"asd\" == \"asd\")"
   ]
  },
  {
   "cell_type": "code",
   "execution_count": 47,
   "metadata": {},
   "outputs": [
    {
     "data": {
      "text/plain": [
       "False"
      ]
     },
     "execution_count": 47,
     "metadata": {},
     "output_type": "execute_result"
    }
   ],
   "source": [
    "(5 > 5) and (\"asd\" == \"asd\")"
   ]
  },
  {
   "cell_type": "code",
   "execution_count": 48,
   "metadata": {},
   "outputs": [
    {
     "data": {
      "text/plain": [
       "True"
      ]
     },
     "execution_count": 48,
     "metadata": {},
     "output_type": "execute_result"
    }
   ],
   "source": [
    "(5 > 5) or (\"asd\" == \"asd\")"
   ]
  },
  {
   "cell_type": "code",
   "execution_count": 4,
   "metadata": {},
   "outputs": [
    {
     "data": {
      "text/plain": [
       "False"
      ]
     },
     "execution_count": 4,
     "metadata": {},
     "output_type": "execute_result"
    }
   ],
   "source": [
    "not((5 > 5) or (\"asd\" == \"asd\"))"
   ]
  },
  {
   "cell_type": "code",
   "execution_count": null,
   "metadata": {},
   "outputs": [],
   "source": []
  },
  {
   "cell_type": "markdown",
   "metadata": {},
   "source": [
    "#### *Exercício AULA 2:*\n",
    "Fórmula de Bhaskara: $x = (-B +-[B^2 - 4*A*C])/2*A$"
   ]
  },
  {
   "cell_type": "code",
   "execution_count": 1,
   "metadata": {},
   "outputs": [],
   "source": [
    "def bhaskara3():\n",
    "    \n",
    "    import math\n",
    "    \n",
    "    a = float(input(\"Digite o valor de a: \"))\n",
    "    b = float(input(\"Digite o valor de b: \"))\n",
    "    c = float(input(\"Digite o valor de c: \"))\n",
    "    \n",
    "    delta = (b**2)-4*a*c\n",
    "    \n",
    "    x1 = (-b + math.sqrt(delta)) / (2*a)\n",
    "    x2 = (-b - math.sqrt(delta)) / (2*a)\n",
    "    \n",
    "    if delta == 0:\n",
    "        print(\"A raíz é:\",x1)\n",
    "    elif delta > 0:\n",
    "        print(\"As raízes da equação são:\",x1,\"e\",x2)\n",
    "    elif delta < 0:\n",
    "        print(\"A equação não possui raízes reais\")"
   ]
  },
  {
   "cell_type": "code",
   "execution_count": 2,
   "metadata": {},
   "outputs": [
    {
     "name": "stdin",
     "output_type": "stream",
     "text": [
      "Digite o valor de a:  1\n",
      "Digite o valor de b:  4\n",
      "Digite o valor de c:  2\n"
     ]
    },
    {
     "name": "stdout",
     "output_type": "stream",
     "text": [
      "As raízes da equação são: -0.5857864376269049 e -3.414213562373095\n"
     ]
    }
   ],
   "source": [
    "bhaskara3()"
   ]
  },
  {
   "cell_type": "code",
   "execution_count": 3,
   "metadata": {},
   "outputs": [
    {
     "name": "stdin",
     "output_type": "stream",
     "text": [
      "Digite o valor de a:  10\n",
      "Digite o valor de b:  20\n",
      "Digite o valor de c:  10\n"
     ]
    },
    {
     "name": "stdout",
     "output_type": "stream",
     "text": [
      "A raíz é: -1.0\n"
     ]
    }
   ],
   "source": [
    "bhaskara3()"
   ]
  },
  {
   "cell_type": "markdown",
   "metadata": {},
   "source": [
    "### **AULA 3 - 27/02/2020**\n",
    "Funções:"
   ]
  },
  {
   "cell_type": "code",
   "execution_count": 1,
   "metadata": {},
   "outputs": [],
   "source": [
    "def cubo(x):\n",
    "    return x**3"
   ]
  },
  {
   "cell_type": "code",
   "execution_count": 2,
   "metadata": {},
   "outputs": [
    {
     "data": {
      "text/plain": [
       "27"
      ]
     },
     "execution_count": 2,
     "metadata": {},
     "output_type": "execute_result"
    }
   ],
   "source": [
    "cubo(3)"
   ]
  },
  {
   "cell_type": "code",
   "execution_count": null,
   "metadata": {},
   "outputs": [],
   "source": []
  },
  {
   "cell_type": "code",
   "execution_count": 6,
   "metadata": {},
   "outputs": [],
   "source": [
    "def p(x):\n",
    "    return x**3 - 2*x**2 + 4"
   ]
  },
  {
   "cell_type": "code",
   "execution_count": 7,
   "metadata": {},
   "outputs": [
    {
     "data": {
      "text/plain": [
       "79"
      ]
     },
     "execution_count": 7,
     "metadata": {},
     "output_type": "execute_result"
    }
   ],
   "source": [
    "p(5)"
   ]
  },
  {
   "cell_type": "markdown",
   "metadata": {},
   "source": [
    " Estrutura ***SWITCH CASE:***"
   ]
  },
  {
   "cell_type": "code",
   "execution_count": 15,
   "metadata": {},
   "outputs": [],
   "source": [
    "def voz(animal):\n",
    "    if animal == \"cão\":\n",
    "        return \"au au\"\n",
    "    elif animal == \"gato\":\n",
    "        return \"miau\"\n",
    "    elif animal == \"humano\":\n",
    "        return \"oi\"\n",
    "    else:\n",
    "        return \"animal desconhecido\""
   ]
  },
  {
   "cell_type": "code",
   "execution_count": 10,
   "metadata": {},
   "outputs": [
    {
     "data": {
      "text/plain": [
       "'au au'"
      ]
     },
     "execution_count": 10,
     "metadata": {},
     "output_type": "execute_result"
    }
   ],
   "source": [
    "voz(\"cão\")"
   ]
  },
  {
   "cell_type": "code",
   "execution_count": 12,
   "metadata": {},
   "outputs": [
    {
     "data": {
      "text/plain": [
       "'miau'"
      ]
     },
     "execution_count": 12,
     "metadata": {},
     "output_type": "execute_result"
    }
   ],
   "source": [
    "voz(\"gato\")"
   ]
  },
  {
   "cell_type": "code",
   "execution_count": 14,
   "metadata": {},
   "outputs": [
    {
     "data": {
      "text/plain": [
       "'oi'"
      ]
     },
     "execution_count": 14,
     "metadata": {},
     "output_type": "execute_result"
    }
   ],
   "source": [
    "voz(\"humano\")"
   ]
  },
  {
   "cell_type": "code",
   "execution_count": 16,
   "metadata": {},
   "outputs": [
    {
     "data": {
      "text/plain": [
       "'animal desconhecido'"
      ]
     },
     "execution_count": 16,
     "metadata": {},
     "output_type": "execute_result"
    }
   ],
   "source": [
    "voz(\"minha namorada\")"
   ]
  },
  {
   "cell_type": "code",
   "execution_count": null,
   "metadata": {},
   "outputs": [],
   "source": []
  },
  {
   "cell_type": "code",
   "execution_count": 23,
   "metadata": {},
   "outputs": [],
   "source": [
    "def f(x):\n",
    "    if x == 1:\n",
    "        return \"Não é possível\"\n",
    "    elif x == -1:\n",
    "        return \"Não é possível\"\n",
    "    else:\n",
    "        fx = 1/(x**2-1)\n",
    "        return fx"
   ]
  },
  {
   "cell_type": "code",
   "execution_count": 25,
   "metadata": {},
   "outputs": [
    {
     "data": {
      "text/plain": [
       "'Não é possível'"
      ]
     },
     "execution_count": 25,
     "metadata": {},
     "output_type": "execute_result"
    }
   ],
   "source": [
    "f(1)"
   ]
  },
  {
   "cell_type": "code",
   "execution_count": 26,
   "metadata": {},
   "outputs": [
    {
     "data": {
      "text/plain": [
       "0.3333333333333333"
      ]
     },
     "execution_count": 26,
     "metadata": {},
     "output_type": "execute_result"
    }
   ],
   "source": [
    "f(2)"
   ]
  },
  {
   "cell_type": "code",
   "execution_count": null,
   "metadata": {},
   "outputs": [],
   "source": []
  },
  {
   "cell_type": "code",
   "execution_count": 2,
   "metadata": {},
   "outputs": [],
   "source": [
    "def f(y):\n",
    "    if y == 1:\n",
    "        return \"Não é possível\"\n",
    "    elif y == -1:\n",
    "        return \"Não é possível\"\n",
    "    else:\n",
    "        return 1/(y**2-1)"
   ]
  },
  {
   "cell_type": "code",
   "execution_count": 29,
   "metadata": {},
   "outputs": [
    {
     "data": {
      "text/plain": [
       "'Não é possível'"
      ]
     },
     "execution_count": 29,
     "metadata": {},
     "output_type": "execute_result"
    }
   ],
   "source": [
    "f(1)"
   ]
  },
  {
   "cell_type": "code",
   "execution_count": 4,
   "metadata": {},
   "outputs": [
    {
     "data": {
      "text/plain": [
       "0.3333333333333333"
      ]
     },
     "execution_count": 4,
     "metadata": {},
     "output_type": "execute_result"
    }
   ],
   "source": [
    "f(2)"
   ]
  },
  {
   "cell_type": "code",
   "execution_count": null,
   "metadata": {},
   "outputs": [],
   "source": []
  },
  {
   "cell_type": "code",
   "execution_count": 30,
   "metadata": {},
   "outputs": [],
   "source": [
    "def f(x):\n",
    "    if x == 1 or x == -1:\n",
    "        return \"Indefinido\"\n",
    "    else:\n",
    "        return 1/(x**2-1)"
   ]
  },
  {
   "cell_type": "code",
   "execution_count": 33,
   "metadata": {},
   "outputs": [
    {
     "data": {
      "text/plain": [
       "'Indefinido'"
      ]
     },
     "execution_count": 33,
     "metadata": {},
     "output_type": "execute_result"
    }
   ],
   "source": [
    "f(-1) "
   ]
  },
  {
   "cell_type": "code",
   "execution_count": 32,
   "metadata": {},
   "outputs": [
    {
     "data": {
      "text/plain": [
       "0.010101010101010102"
      ]
     },
     "execution_count": 32,
     "metadata": {},
     "output_type": "execute_result"
    }
   ],
   "source": [
    "f(10)"
   ]
  },
  {
   "cell_type": "code",
   "execution_count": 37,
   "metadata": {},
   "outputs": [],
   "source": [
    "def f(x):\n",
    "    if x == 1 or x == -1:\n",
    "        return \"Indefinido\"\n",
    "    return 1/(x**2-1)"
   ]
  },
  {
   "cell_type": "code",
   "execution_count": 38,
   "metadata": {},
   "outputs": [
    {
     "data": {
      "text/plain": [
       "'Indefinido'"
      ]
     },
     "execution_count": 38,
     "metadata": {},
     "output_type": "execute_result"
    }
   ],
   "source": [
    "f(-1)"
   ]
  },
  {
   "cell_type": "code",
   "execution_count": 39,
   "metadata": {},
   "outputs": [
    {
     "data": {
      "text/plain": [
       "0.010101010101010102"
      ]
     },
     "execution_count": 39,
     "metadata": {},
     "output_type": "execute_result"
    }
   ],
   "source": [
    "f(10)"
   ]
  },
  {
   "cell_type": "markdown",
   "metadata": {},
   "source": []
  },
  {
   "cell_type": "code",
   "execution_count": 47,
   "metadata": {},
   "outputs": [],
   "source": [
    "def raiz(x):\n",
    "    if x < 0:\n",
    "        return \"Insira apenas números reais não negativos.\"\n",
    "    return (x**(1/2))"
   ]
  },
  {
   "cell_type": "code",
   "execution_count": 48,
   "metadata": {},
   "outputs": [
    {
     "data": {
      "text/plain": [
       "'Insira apenas números reais não negativos.'"
      ]
     },
     "execution_count": 48,
     "metadata": {},
     "output_type": "execute_result"
    }
   ],
   "source": [
    "raiz(-4)"
   ]
  },
  {
   "cell_type": "code",
   "execution_count": 51,
   "metadata": {},
   "outputs": [
    {
     "data": {
      "text/plain": [
       "2.0"
      ]
     },
     "execution_count": 51,
     "metadata": {},
     "output_type": "execute_result"
    }
   ],
   "source": [
    "raiz(4)"
   ]
  },
  {
   "cell_type": "markdown",
   "metadata": {},
   "source": [
    "### **Exercício para casa:** \n",
    " $raiz(x) = 1/x^2-1(0.5)$"
   ]
  },
  {
   "cell_type": "code",
   "execution_count": 77,
   "metadata": {},
   "outputs": [],
   "source": [
    "def r(x):\n",
    "    if x <= 0 or x == 1 or x == -1:\n",
    "        return \"Insira valores maiores que zero e diferentes de 1\"\n",
    "    else:\n",
    "        return (1/(x**2-1))**0.5"
   ]
  },
  {
   "cell_type": "code",
   "execution_count": 78,
   "metadata": {},
   "outputs": [
    {
     "data": {
      "text/plain": [
       "'Insira valores maiores que zero e diferentes de 1'"
      ]
     },
     "execution_count": 78,
     "metadata": {},
     "output_type": "execute_result"
    }
   ],
   "source": [
    "r(1)"
   ]
  },
  {
   "cell_type": "code",
   "execution_count": 79,
   "metadata": {},
   "outputs": [
    {
     "data": {
      "text/plain": [
       "0.5773502691896257"
      ]
     },
     "execution_count": 79,
     "metadata": {},
     "output_type": "execute_result"
    }
   ],
   "source": [
    "r(2)"
   ]
  },
  {
   "cell_type": "markdown",
   "metadata": {},
   "source": [
    "#### **LISTAS:**"
   ]
  },
  {
   "cell_type": "code",
   "execution_count": 54,
   "metadata": {},
   "outputs": [],
   "source": [
    "lst = [6, -1, 8, 4, 8, 0, 6]"
   ]
  },
  {
   "cell_type": "code",
   "execution_count": 56,
   "metadata": {},
   "outputs": [
    {
     "data": {
      "text/plain": [
       "6"
      ]
     },
     "execution_count": 56,
     "metadata": {},
     "output_type": "execute_result"
    }
   ],
   "source": [
    "lst[0]"
   ]
  },
  {
   "cell_type": "code",
   "execution_count": 57,
   "metadata": {},
   "outputs": [
    {
     "data": {
      "text/plain": [
       "4"
      ]
     },
     "execution_count": 57,
     "metadata": {},
     "output_type": "execute_result"
    }
   ],
   "source": [
    "lst[3]"
   ]
  },
  {
   "cell_type": "code",
   "execution_count": 65,
   "metadata": {},
   "outputs": [
    {
     "data": {
      "text/plain": [
       "True"
      ]
     },
     "execution_count": 65,
     "metadata": {},
     "output_type": "execute_result"
    }
   ],
   "source": [
    "['a', 8, \"Maria\", 9.67, True ][4]"
   ]
  },
  {
   "cell_type": "code",
   "execution_count": 66,
   "metadata": {},
   "outputs": [],
   "source": [
    "termos = ['a', 8, \"Maria\", 9.67, True]"
   ]
  },
  {
   "cell_type": "code",
   "execution_count": 67,
   "metadata": {},
   "outputs": [
    {
     "data": {
      "text/plain": [
       "['Maria', 9.67]"
      ]
     },
     "execution_count": 67,
     "metadata": {},
     "output_type": "execute_result"
    }
   ],
   "source": [
    "termos[2:4]"
   ]
  },
  {
   "cell_type": "code",
   "execution_count": 73,
   "metadata": {},
   "outputs": [
    {
     "data": {
      "text/plain": [
       "'a'"
      ]
     },
     "execution_count": 73,
     "metadata": {},
     "output_type": "execute_result"
    }
   ],
   "source": [
    "termos[2][4]"
   ]
  },
  {
   "cell_type": "code",
   "execution_count": 74,
   "metadata": {},
   "outputs": [
    {
     "data": {
      "text/plain": [
       "[1, 2, 3, 4, 7, 8, 9]"
      ]
     },
     "execution_count": 74,
     "metadata": {},
     "output_type": "execute_result"
    }
   ],
   "source": [
    "[1,2,3,4] + [7,8,9]"
   ]
  },
  {
   "cell_type": "code",
   "execution_count": 75,
   "metadata": {},
   "outputs": [
    {
     "data": {
      "text/plain": [
       "[1, 2, 3, 4, 7, 8, 9]"
      ]
     },
     "execution_count": 75,
     "metadata": {},
     "output_type": "execute_result"
    }
   ],
   "source": [
    "[1,2,3,4] + [7,8,9] + []"
   ]
  },
  {
   "cell_type": "markdown",
   "metadata": {},
   "source": [
    "Para chamar a lista:\n",
    "Podendo usar i ou e (indice/elemento) como tradicionais, ou qualquer outra letra/nome de preferência."
   ]
  },
  {
   "cell_type": "code",
   "execution_count": 78,
   "metadata": {},
   "outputs": [
    {
     "name": "stdout",
     "output_type": "stream",
     "text": [
      "6\n",
      "-1\n",
      "8\n",
      "4\n",
      "8\n",
      "0\n",
      "6\n"
     ]
    }
   ],
   "source": [
    "for i in lst:\n",
    "    print (i)"
   ]
  },
  {
   "cell_type": "code",
   "execution_count": 81,
   "metadata": {},
   "outputs": [
    {
     "name": "stdout",
     "output_type": "stream",
     "text": [
      "6\n",
      "mesa\n",
      "10.1\n",
      "False\n",
      "5\n"
     ]
    }
   ],
   "source": [
    "for elemento in [6, 'mesa', 10.1, False, 5]:\n",
    "    print (elemento)"
   ]
  },
  {
   "cell_type": "markdown",
   "metadata": {},
   "source": [
    "Para somar elementos da lista:"
   ]
  },
  {
   "cell_type": "code",
   "execution_count": 85,
   "metadata": {},
   "outputs": [],
   "source": [
    "soma = 0\n",
    "for e in [6, 3, 10, 1,5]:\n",
    "    soma = soma + e"
   ]
  },
  {
   "cell_type": "code",
   "execution_count": 86,
   "metadata": {},
   "outputs": [
    {
     "data": {
      "text/plain": [
       "25"
      ]
     },
     "execution_count": 86,
     "metadata": {},
     "output_type": "execute_result"
    }
   ],
   "source": [
    "soma"
   ]
  },
  {
   "cell_type": "code",
   "execution_count": 89,
   "metadata": {},
   "outputs": [],
   "source": [
    "mult = 1\n",
    "for e in [6, 3, 10, 1, 5]:\n",
    "    mult = mult * e\n"
   ]
  },
  {
   "cell_type": "code",
   "execution_count": 90,
   "metadata": {},
   "outputs": [
    {
     "data": {
      "text/plain": [
       "900"
      ]
     },
     "execution_count": 90,
     "metadata": {},
     "output_type": "execute_result"
    }
   ],
   "source": [
    "mult"
   ]
  },
  {
   "cell_type": "markdown",
   "metadata": {},
   "source": [
    "#### Desafio: \n",
    "Concatene essas listas: [[7,5,3], [1,2,4], [0,3,9]]"
   ]
  },
  {
   "cell_type": "code",
   "execution_count": 99,
   "metadata": {},
   "outputs": [
    {
     "name": "stdout",
     "output_type": "stream",
     "text": [
      "[7, 5, 3, 1, 2, 4, 0, 3, 9]\n"
     ]
    }
   ],
   "source": [
    "listaOriginal = [[7,5,3],[1,2,4],[0,3,9]]\n",
    "listaConcatenada = []\n",
    "\n",
    "for lista in listaOriginal:\n",
    "    listaConcatenada = listaConcatenada + lista\n",
    "\n",
    "print(listaConcatenada)"
   ]
  },
  {
   "cell_type": "code",
   "execution_count": 100,
   "metadata": {},
   "outputs": [],
   "source": [
    "neutro = []\n",
    "for teste in [[7,5,3],[1,2,4],[0,3,9]]:\n",
    "    neutro = neutro + teste"
   ]
  },
  {
   "cell_type": "code",
   "execution_count": 101,
   "metadata": {},
   "outputs": [
    {
     "data": {
      "text/plain": [
       "[7, 5, 3, 1, 2, 4, 0, 3, 9]"
      ]
     },
     "execution_count": 101,
     "metadata": {},
     "output_type": "execute_result"
    }
   ],
   "source": [
    "neutro"
   ]
  },
  {
   "cell_type": "code",
   "execution_count": null,
   "metadata": {},
   "outputs": [],
   "source": []
  },
  {
   "cell_type": "markdown",
   "metadata": {},
   "source": [
    "### Exercício: $1+1/2+1/3+1/4,...,1/n$ \"Série Harmônica\""
   ]
  },
  {
   "cell_type": "code",
   "execution_count": 102,
   "metadata": {},
   "outputs": [],
   "source": [
    "nt = 0\n",
    "sa = [1, 1/2, 1/3, 1/4, 1/5]\n",
    "\n",
    "for soma in sa: \n",
    "    nt = nt + soma"
   ]
  },
  {
   "cell_type": "code",
   "execution_count": 103,
   "metadata": {},
   "outputs": [
    {
     "data": {
      "text/plain": [
       "2.283333333333333"
      ]
     },
     "execution_count": 103,
     "metadata": {},
     "output_type": "execute_result"
    }
   ],
   "source": [
    "nt"
   ]
  },
  {
   "cell_type": "code",
   "execution_count": 102,
   "metadata": {},
   "outputs": [],
   "source": [
    "def somaLista(x):\n",
    "    lista = []\n",
    "    soma = 0\n",
    "    for i in range(1, x+1):\n",
    "        lista.append (1/i)\n",
    "    for j in lista:\n",
    "        soma = soma + j\n",
    "    return soma"
   ]
  },
  {
   "cell_type": "code",
   "execution_count": 103,
   "metadata": {},
   "outputs": [
    {
     "data": {
      "text/plain": [
       "2.283333333333333"
      ]
     },
     "execution_count": 103,
     "metadata": {},
     "output_type": "execute_result"
    }
   ],
   "source": [
    "somaLista(5)"
   ]
  },
  {
   "cell_type": "code",
   "execution_count": null,
   "metadata": {},
   "outputs": [],
   "source": []
  },
  {
   "cell_type": "markdown",
   "metadata": {},
   "source": [
    "### **AULA 4 - 28/02/2020**"
   ]
  },
  {
   "cell_type": "markdown",
   "metadata": {},
   "source": [
    "Sobre ***Domínio e (Imagem != Codomínio)***"
   ]
  },
  {
   "cell_type": "code",
   "execution_count": 220,
   "metadata": {},
   "outputs": [],
   "source": [
    "def y1(x):\n",
    "    if x>-2 and x<2:\n",
    "        return \"fora de domínio\"\n",
    "    return (x**2 - 4)**(1/2)"
   ]
  },
  {
   "cell_type": "code",
   "execution_count": 221,
   "metadata": {},
   "outputs": [],
   "source": [
    "def y(x):\n",
    "    if x <= -2 or x >= 2:\n",
    "        return (x**2 - 4)**0.5\n",
    "    return \"fora do domínio\""
   ]
  },
  {
   "cell_type": "code",
   "execution_count": 222,
   "metadata": {},
   "outputs": [],
   "source": [
    "def g(x):\n",
    "    if x == 1 or x== 0:\n",
    "        return \"fora de dominio\"\n",
    "    return 1 / (x ** 2 - x)"
   ]
  },
  {
   "cell_type": "code",
   "execution_count": 223,
   "metadata": {},
   "outputs": [
    {
     "data": {
      "text/plain": [
       "'fora de dominio'"
      ]
     },
     "execution_count": 223,
     "metadata": {},
     "output_type": "execute_result"
    }
   ],
   "source": [
    "g(1)"
   ]
  },
  {
   "cell_type": "code",
   "execution_count": 224,
   "metadata": {},
   "outputs": [
    {
     "data": {
      "image/png": "[encoded data removed]",
      "text/latex": [
       "$\\displaystyle 0.0$"
      ],
      "text/plain": [
       "0.0"
      ]
     },
     "execution_count": 224,
     "metadata": {},
     "output_type": "execute_result"
    }
   ],
   "source": [
    "y(-2)"
   ]
  },
  {
   "cell_type": "code",
   "execution_count": 225,
   "metadata": {},
   "outputs": [
    {
     "data": {
      "text/plain": [
       "'fora do domínio'"
      ]
     },
     "execution_count": 225,
     "metadata": {},
     "output_type": "execute_result"
    }
   ],
   "source": [
    "y(-1)"
   ]
  },
  {
   "cell_type": "markdown",
   "metadata": {},
   "source": [
    "### **AULA 5 - 05/03/2020**"
   ]
  },
  {
   "cell_type": "markdown",
   "metadata": {},
   "source": [
    "#### *Exercícios Aula HTML Modelo do Blackboard:*\n",
    "(área do quadrado, perímetro do retângulo, área do triângulo)"
   ]
  },
  {
   "cell_type": "code",
   "execution_count": 1,
   "metadata": {},
   "outputs": [],
   "source": [
    "def area_do_quadrado(lado):\n",
    "    return lado**2"
   ]
  },
  {
   "cell_type": "code",
   "execution_count": 2,
   "metadata": {},
   "outputs": [
    {
     "data": {
      "text/plain": [
       "16"
      ]
     },
     "execution_count": 2,
     "metadata": {},
     "output_type": "execute_result"
    }
   ],
   "source": [
    "area_do_quadrado(4)"
   ]
  },
  {
   "cell_type": "code",
   "execution_count": 4,
   "metadata": {},
   "outputs": [],
   "source": [
    "def perimetro_ret(altura, largura):\n",
    "    return (altura*2) + (largura*2)"
   ]
  },
  {
   "cell_type": "raw",
   "metadata": {},
   "source": [
    "perimetro_ret(2, 4)"
   ]
  },
  {
   "cell_type": "code",
   "execution_count": 6,
   "metadata": {},
   "outputs": [],
   "source": [
    "def area_do_triangulo(base, altura):\n",
    "    return (base*altura)/2"
   ]
  },
  {
   "cell_type": "code",
   "execution_count": 7,
   "metadata": {},
   "outputs": [
    {
     "data": {
      "text/plain": [
       "3.0"
      ]
     },
     "execution_count": 7,
     "metadata": {},
     "output_type": "execute_result"
    }
   ],
   "source": [
    "area_do_triangulo(2, 3)"
   ]
  },
  {
   "cell_type": "markdown",
   "metadata": {},
   "source": [
    "Compute o valor do seguinte polinômio:\n",
    "$$p(x)=2x^3-5x^2+1$$"
   ]
  },
  {
   "cell_type": "code",
   "execution_count": 17,
   "metadata": {},
   "outputs": [],
   "source": [
    "def pParticular(x):\n",
    "    return 2*x**3 - 5*x**2 + 1"
   ]
  },
  {
   "cell_type": "code",
   "execution_count": 18,
   "metadata": {},
   "outputs": [
    {
     "data": {
      "text/plain": [
       "-2"
      ]
     },
     "execution_count": 18,
     "metadata": {},
     "output_type": "execute_result"
    }
   ],
   "source": [
    "pParticular(1)"
   ]
  },
  {
   "cell_type": "markdown",
   "metadata": {},
   "source": [
    "Calcule o valor de qualquer polinomio do terceiro grau, dados coeficientes da varialvel independente de x: $$ax^3 + bx^2 + cx + d$$"
   ]
  },
  {
   "cell_type": "code",
   "execution_count": 15,
   "metadata": {},
   "outputs": [],
   "source": [
    "def pGenerico(a, b, c, d, x):\n",
    "    return a*x**3 + b*x**2 + c*x + d"
   ]
  },
  {
   "cell_type": "code",
   "execution_count": 16,
   "metadata": {},
   "outputs": [
    {
     "data": {
      "text/plain": [
       "-2"
      ]
     },
     "execution_count": 16,
     "metadata": {},
     "output_type": "execute_result"
    }
   ],
   "source": [
    "pGenerico(2, -5, 0, 1, 1)"
   ]
  },
  {
   "cell_type": "markdown",
   "metadata": {},
   "source": [
    "Calcule a área do círculo com e sem biblioteca:"
   ]
  },
  {
   "cell_type": "code",
   "execution_count": 20,
   "metadata": {},
   "outputs": [],
   "source": [
    "def areaCirculo(r):\n",
    "    return 3.14 * r**2"
   ]
  },
  {
   "cell_type": "code",
   "execution_count": 21,
   "metadata": {},
   "outputs": [
    {
     "data": {
      "text/plain": [
       "12.56"
      ]
     },
     "execution_count": 21,
     "metadata": {},
     "output_type": "execute_result"
    }
   ],
   "source": [
    "areaCirculo(2)"
   ]
  },
  {
   "cell_type": "code",
   "execution_count": 22,
   "metadata": {},
   "outputs": [],
   "source": [
    "import math\n",
    "def areaC(raio):\n",
    "    return math.pi * raio**2"
   ]
  },
  {
   "cell_type": "code",
   "execution_count": 23,
   "metadata": {},
   "outputs": [
    {
     "data": {
      "text/plain": [
       "12.566370614359172"
      ]
     },
     "execution_count": 23,
     "metadata": {},
     "output_type": "execute_result"
    }
   ],
   "source": [
    "areaC(2)"
   ]
  },
  {
   "cell_type": "markdown",
   "metadata": {},
   "source": [
    "Calcule o perímetro do círculo:"
   ]
  },
  {
   "cell_type": "code",
   "execution_count": 32,
   "metadata": {},
   "outputs": [],
   "source": [
    "def perimetroCirculo(raio):\n",
    "    return (2*3.14)*raio"
   ]
  },
  {
   "cell_type": "code",
   "execution_count": 34,
   "metadata": {},
   "outputs": [
    {
     "data": {
      "text/plain": [
       "12.56"
      ]
     },
     "execution_count": 34,
     "metadata": {},
     "output_type": "execute_result"
    }
   ],
   "source": [
    "perimetroCirculo(2)"
   ]
  },
  {
   "cell_type": "code",
   "execution_count": 35,
   "metadata": {},
   "outputs": [],
   "source": [
    "import math\n",
    "def perimetroC(raio):\n",
    "    return (2*math.pi)*raio"
   ]
  },
  {
   "cell_type": "code",
   "execution_count": 36,
   "metadata": {},
   "outputs": [
    {
     "data": {
      "text/plain": [
       "12.566370614359172"
      ]
     },
     "execution_count": 36,
     "metadata": {},
     "output_type": "execute_result"
    }
   ],
   "source": [
    "perimetroC(2)"
   ]
  },
  {
   "cell_type": "code",
   "execution_count": null,
   "metadata": {},
   "outputs": [],
   "source": []
  },
  {
   "cell_type": "markdown",
   "metadata": {},
   "source": [
    "#### Exercício 2 do Modelo Blackboard \n",
    "Função que retorne o maior entre a, b."
   ]
  },
  {
   "cell_type": "code",
   "execution_count": 79,
   "metadata": {},
   "outputs": [],
   "source": [
    "def teste(a, b):\n",
    "    if a == b:\n",
    "        return \"Coloque números diferentes\"\n",
    "    elif a > b:\n",
    "        return a\n",
    "    else:\n",
    "        return b"
   ]
  },
  {
   "cell_type": "code",
   "execution_count": 80,
   "metadata": {},
   "outputs": [
    {
     "data": {
      "text/plain": [
       "'Coloque números diferentes'"
      ]
     },
     "execution_count": 80,
     "metadata": {},
     "output_type": "execute_result"
    }
   ],
   "source": [
    "teste(4, 4)"
   ]
  },
  {
   "cell_type": "markdown",
   "metadata": {},
   "source": [
    "Função para retornar o maior entre os três **incompleto/com falhas:**"
   ]
  },
  {
   "cell_type": "code",
   "execution_count": 63,
   "metadata": {},
   "outputs": [],
   "source": [
    "def testeTriplo(a, b, c):\n",
    "    if a > b and a > c:\n",
    "        return a\n",
    "    elif b > a and b > c:\n",
    "        return b\n",
    "    elif c > a and c > b:\n",
    "        return c"
   ]
  },
  {
   "cell_type": "code",
   "execution_count": 66,
   "metadata": {},
   "outputs": [],
   "source": [
    "testeTriplo(4, 4, 3)"
   ]
  },
  {
   "cell_type": "markdown",
   "metadata": {},
   "source": [
    "Função para retornar o maior entre os três **completo:**"
   ]
  },
  {
   "cell_type": "code",
   "execution_count": 67,
   "metadata": {},
   "outputs": [],
   "source": [
    "def maior(a,b,c):\n",
    "    if a != b and a != c and b != c:\n",
    "        if a > b and a > c:\n",
    "            return a\n",
    "        elif b > a and b > c:\n",
    "            return b\n",
    "        elif c > a and c > b:\n",
    "            return c\n",
    "    elif a == b:\n",
    "        if a > c:\n",
    "            return a\n",
    "        else:\n",
    "            return c\n",
    "    elif a == c:\n",
    "        if a > b:\n",
    "            return a\n",
    "        else:\n",
    "            return b\n",
    "    elif b == c:\n",
    "        if b > a:\n",
    "            return b\n",
    "        else:\n",
    "            return a"
   ]
  },
  {
   "cell_type": "code",
   "execution_count": 69,
   "metadata": {},
   "outputs": [
    {
     "data": {
      "text/plain": [
       "5"
      ]
     },
     "execution_count": 69,
     "metadata": {},
     "output_type": "execute_result"
    }
   ],
   "source": [
    "maior(4, 4, 5)"
   ]
  },
  {
   "cell_type": "markdown",
   "metadata": {},
   "source": [
    "Função que retorne o maior entre (a, b) **mais simples.**"
   ]
  },
  {
   "cell_type": "code",
   "execution_count": 70,
   "metadata": {},
   "outputs": [],
   "source": [
    "def comparacao(a, b):\n",
    "    if a > b:\n",
    "        return a\n",
    "    return b"
   ]
  },
  {
   "cell_type": "code",
   "execution_count": 72,
   "metadata": {},
   "outputs": [
    {
     "data": {
      "text/plain": [
       "1"
      ]
     },
     "execution_count": 72,
     "metadata": {},
     "output_type": "execute_result"
    }
   ],
   "source": [
    "comparacao(1, 1)"
   ]
  },
  {
   "cell_type": "markdown",
   "metadata": {},
   "source": [
    "Função para retornar o maior entre os três **mais simples:**"
   ]
  },
  {
   "cell_type": "code",
   "execution_count": 73,
   "metadata": {},
   "outputs": [],
   "source": [
    "def comparacao3(a, b, c):\n",
    "    if a >= b and a >= c:\n",
    "        return a\n",
    "    elif b >= a and b >= c:\n",
    "        return b\n",
    "    else:\n",
    "        return c"
   ]
  },
  {
   "cell_type": "code",
   "execution_count": 76,
   "metadata": {},
   "outputs": [
    {
     "data": {
      "text/plain": [
       "1"
      ]
     },
     "execution_count": 76,
     "metadata": {},
     "output_type": "execute_result"
    }
   ],
   "source": [
    "comparacao3(1, 1, 1)"
   ]
  },
  {
   "cell_type": "markdown",
   "metadata": {},
   "source": [
    "#### Exemplo do professor:"
   ]
  },
  {
   "cell_type": "code",
   "execution_count": 81,
   "metadata": {},
   "outputs": [],
   "source": [
    "def maior_de_dois(a, b):\n",
    "    if a > b:\n",
    "        return a\n",
    "    return b"
   ]
  },
  {
   "cell_type": "code",
   "execution_count": 82,
   "metadata": {},
   "outputs": [],
   "source": [
    "def maior_de_tres(a, b, c):\n",
    "    return maior_de_dois(maior_de_dois(a, b), c)"
   ]
  },
  {
   "cell_type": "code",
   "execution_count": 85,
   "metadata": {},
   "outputs": [
    {
     "data": {
      "text/plain": [
       "9"
      ]
     },
     "execution_count": 85,
     "metadata": {},
     "output_type": "execute_result"
    }
   ],
   "source": [
    "maior_de_tres(8, 9, 8)"
   ]
  },
  {
   "cell_type": "code",
   "execution_count": null,
   "metadata": {},
   "outputs": [],
   "source": []
  },
  {
   "cell_type": "markdown",
   "metadata": {},
   "source": [
    "**Exercício de Domínio:**"
   ]
  },
  {
   "cell_type": "markdown",
   "metadata": {},
   "source": [
    "$$f(x)=\\frac{1}{x-1}$$"
   ]
  },
  {
   "cell_type": "markdown",
   "metadata": {},
   "source": [
    "$domF =\\{x\\ |\\ x \\in \\mathbb{R} \\land x \\neq 1\\}$\n",
    "\n",
    "$imF = \\{x\\ |\\ x \\in \\mathbb{R} \\land x \\neq 0\\}$"
   ]
  },
  {
   "cell_type": "code",
   "execution_count": null,
   "metadata": {},
   "outputs": [],
   "source": [
    "def f(x):\n",
    "    if x != 0:\n",
    "        return 1/(x-1)"
   ]
  },
  {
   "cell_type": "markdown",
   "metadata": {},
   "source": [
    "$$g(x) = x^2$$"
   ]
  },
  {
   "cell_type": "markdown",
   "metadata": {},
   "source": [
    "$domG =\\{x\\ |\\ x \\in \\mathbb{R}\\}$"
   ]
  },
  {
   "cell_type": "markdown",
   "metadata": {},
   "source": [
    "$imG = \\{x\\ |\\ x \\in \\mathbb{R} \\land x \\neq 0\\}$"
   ]
  },
  {
   "cell_type": "code",
   "execution_count": null,
   "metadata": {},
   "outputs": [],
   "source": [
    "def g(x):\n",
    "    if x != 0:\n",
    "        return x**2"
   ]
  },
  {
   "cell_type": "markdown",
   "metadata": {},
   "source": [
    "$$ y=\\sqrt{x^2-4} $$"
   ]
  },
  {
   "cell_type": "markdown",
   "metadata": {},
   "source": [
    "$DomY = \\{x\\ |\\ x \\in \\mathbb{R} \\land x \\leq -2 \\lor x \\geq 2\\}$"
   ]
  },
  {
   "cell_type": "markdown",
   "metadata": {},
   "source": [
    "$ImY = \\{x\\ |\\ x \\in \\mathbb{R} \\land x \\geq 0\\}$"
   ]
  },
  {
   "cell_type": "code",
   "execution_count": null,
   "metadata": {},
   "outputs": [],
   "source": [
    "def y(x):\n",
    "    return (x**2 -4)**(1/2)"
   ]
  },
  {
   "cell_type": "markdown",
   "metadata": {},
   "source": [
    "$$ f(x) = \\frac{1}{x^2 - 1}$$"
   ]
  },
  {
   "cell_type": "markdown",
   "metadata": {},
   "source": [
    "$DomF = \\{x\\ |\\ x \\in \\mathbb{R} \\land x \\neq 1 \\lor x \\neq -1\\}$"
   ]
  },
  {
   "cell_type": "code",
   "execution_count": 34,
   "metadata": {},
   "outputs": [],
   "source": [
    "def f(x):\n",
    "    if x != 1 or x != -1:\n",
    "        return 1/(x**2 - 1)"
   ]
  },
  {
   "cell_type": "code",
   "execution_count": 35,
   "metadata": {},
   "outputs": [
    {
     "data": {
      "text/plain": [
       "0.3333333333333333"
      ]
     },
     "execution_count": 35,
     "metadata": {},
     "output_type": "execute_result"
    }
   ],
   "source": [
    "f(2)"
   ]
  },
  {
   "cell_type": "markdown",
   "metadata": {},
   "source": [
    "### **AULA 6 - 06/03/2020**"
   ]
  },
  {
   "cell_type": "markdown",
   "metadata": {},
   "source": [
    "#### Iterar uma lista:"
   ]
  },
  {
   "cell_type": "code",
   "execution_count": 2,
   "metadata": {},
   "outputs": [
    {
     "name": "stdout",
     "output_type": "stream",
     "text": [
      "10\n",
      "-2\n",
      "14\n",
      "6\n"
     ]
    }
   ],
   "source": [
    "for i in [5, -1, 7, 3]:\n",
    "    print(2*i)"
   ]
  },
  {
   "cell_type": "code",
   "execution_count": 6,
   "metadata": {},
   "outputs": [
    {
     "name": "stdout",
     "output_type": "stream",
     "text": [
      "0\n",
      "1\n",
      "2\n",
      "3\n",
      "4\n"
     ]
    }
   ],
   "source": [
    "for n in range(5):\n",
    "    print(n)"
   ]
  },
  {
   "cell_type": "markdown",
   "metadata": {},
   "source": [
    "Diferencia-se na ocupação de memória:"
   ]
  },
  {
   "cell_type": "code",
   "execution_count": 12,
   "metadata": {},
   "outputs": [
    {
     "name": "stdout",
     "output_type": "stream",
     "text": [
      "1\n",
      "2\n",
      "3\n",
      "4\n",
      "5\n",
      "6\n",
      "7\n",
      "8\n",
      "9\n"
     ]
    }
   ],
   "source": [
    "for n in [1, 2, 3, 4, 5, 6, 7, 8, 9]:\n",
    "    print(n)"
   ]
  },
  {
   "cell_type": "code",
   "execution_count": 11,
   "metadata": {},
   "outputs": [
    {
     "name": "stdout",
     "output_type": "stream",
     "text": [
      "1\n",
      "2\n",
      "3\n",
      "4\n",
      "5\n",
      "6\n",
      "7\n",
      "8\n",
      "9\n"
     ]
    }
   ],
   "source": [
    "for n in range(1, 10):\n",
    "    print(n)"
   ]
  },
  {
   "cell_type": "code",
   "execution_count": 13,
   "metadata": {},
   "outputs": [
    {
     "data": {
      "text/plain": [
       "[1.0, 0.5, 0.3333333333333333, 0.25, 0.2]"
      ]
     },
     "execution_count": 13,
     "metadata": {},
     "output_type": "execute_result"
    }
   ],
   "source": [
    "[1/n for n in range(1, 6)]"
   ]
  },
  {
   "cell_type": "markdown",
   "metadata": {},
   "source": [
    "### **List Comprehension em Python:**"
   ]
  },
  {
   "cell_type": "code",
   "execution_count": 19,
   "metadata": {},
   "outputs": [
    {
     "data": {
      "text/plain": [
       "[0.5, 0.25, 0.16666666666666666, 0.125, 0.1]"
      ]
     },
     "execution_count": 19,
     "metadata": {},
     "output_type": "execute_result"
    }
   ],
   "source": [
    "[1/(2*n) for n in range(1, 6)]"
   ]
  },
  {
   "cell_type": "code",
   "execution_count": 21,
   "metadata": {},
   "outputs": [
    {
     "data": {
      "text/plain": [
       "range(0, 5)"
      ]
     },
     "execution_count": 21,
     "metadata": {},
     "output_type": "execute_result"
    }
   ],
   "source": [
    "range(5)"
   ]
  },
  {
   "cell_type": "markdown",
   "metadata": {},
   "source": [
    "Um *range* é um *iterator*, não uma lista. Pode-se gerar uma lista a partir de um range por meio da função *list*."
   ]
  },
  {
   "cell_type": "code",
   "execution_count": 22,
   "metadata": {},
   "outputs": [
    {
     "data": {
      "text/plain": [
       "[1, 2, 3, 4, 5]"
      ]
     },
     "execution_count": 22,
     "metadata": {},
     "output_type": "execute_result"
    }
   ],
   "source": [
    "list(range(1,6))"
   ]
  },
  {
   "cell_type": "code",
   "execution_count": 29,
   "metadata": {},
   "outputs": [
    {
     "data": {
      "text/plain": [
       "[1.0,\n",
       " 0.3333333333333333,\n",
       " 0.1111111111111111,\n",
       " 0.037037037037037035,\n",
       " 0.012345679012345678,\n",
       " 0.00411522633744856,\n",
       " 0.0013717421124828531,\n",
       " 0.0004572473708276177,\n",
       " 0.00015241579027587258,\n",
       " 5.080526342529086e-05]"
      ]
     },
     "execution_count": 29,
     "metadata": {},
     "output_type": "execute_result"
    }
   ],
   "source": [
    "[1/(3**n) for n in range(10)]"
   ]
  },
  {
   "cell_type": "code",
   "execution_count": 39,
   "metadata": {},
   "outputs": [],
   "source": [
    "def f(n):\n",
    "    return [1/(3**i) for i in range(n)]"
   ]
  },
  {
   "cell_type": "code",
   "execution_count": 40,
   "metadata": {},
   "outputs": [
    {
     "data": {
      "text/plain": [
       "[1.0,\n",
       " 0.3333333333333333,\n",
       " 0.1111111111111111,\n",
       " 0.037037037037037035,\n",
       " 0.012345679012345678,\n",
       " 0.00411522633744856,\n",
       " 0.0013717421124828531,\n",
       " 0.0004572473708276177,\n",
       " 0.00015241579027587258,\n",
       " 5.080526342529086e-05]"
      ]
     },
     "execution_count": 40,
     "metadata": {},
     "output_type": "execute_result"
    }
   ],
   "source": [
    "f(10)"
   ]
  },
  {
   "cell_type": "code",
   "execution_count": 34,
   "metadata": {},
   "outputs": [
    {
     "data": {
      "text/plain": [
       "[1.0, 0.25, 0.1111111111111111, 0.0625, 0.04]"
      ]
     },
     "execution_count": 34,
     "metadata": {},
     "output_type": "execute_result"
    }
   ],
   "source": [
    "[1/(n**2) for n in range(1, 6)]"
   ]
  },
  {
   "cell_type": "code",
   "execution_count": 37,
   "metadata": {},
   "outputs": [],
   "source": [
    "def f(n):\n",
    "    return [1/(i**2) for i in range(1, n)]"
   ]
  },
  {
   "cell_type": "code",
   "execution_count": 38,
   "metadata": {},
   "outputs": [
    {
     "data": {
      "text/plain": [
       "[1.0, 0.25, 0.1111111111111111, 0.0625, 0.04]"
      ]
     },
     "execution_count": 38,
     "metadata": {},
     "output_type": "execute_result"
    }
   ],
   "source": [
    "f(6)"
   ]
  },
  {
   "cell_type": "markdown",
   "metadata": {},
   "source": [
    "### Exercício da lista: (Aula 4 Modelo Professor)"
   ]
  },
  {
   "cell_type": "markdown",
   "metadata": {},
   "source": [
    "\n"
   ]
  },
  {
   "cell_type": "code",
   "execution_count": 36,
   "metadata": {},
   "outputs": [],
   "source": [
    "soma = 0\n",
    "for e in [1, 1/2, 1/3, 1/4]:\n",
    "        soma = soma + e"
   ]
  },
  {
   "cell_type": "code",
   "execution_count": 37,
   "metadata": {},
   "outputs": [
    {
     "data": {
      "text/plain": [
       "2.083333333333333"
      ]
     },
     "execution_count": 37,
     "metadata": {},
     "output_type": "execute_result"
    }
   ],
   "source": [
    "soma"
   ]
  },
  {
   "cell_type": "code",
   "execution_count": 38,
   "metadata": {},
   "outputs": [],
   "source": [
    "soma = 0\n",
    "for e in [1, 1/4, 1/9, 1/25]:\n",
    "        soma = soma + e"
   ]
  },
  {
   "cell_type": "code",
   "execution_count": 39,
   "metadata": {},
   "outputs": [
    {
     "data": {
      "text/plain": [
       "1.4011111111111112"
      ]
     },
     "execution_count": 39,
     "metadata": {},
     "output_type": "execute_result"
    }
   ],
   "source": [
    "soma"
   ]
  },
  {
   "cell_type": "code",
   "execution_count": 42,
   "metadata": {},
   "outputs": [],
   "source": [
    "mult = 1\n",
    "for e in [1, 1/2, 1/3, 1/4, 1/5]:\n",
    "    mult = mult * e"
   ]
  },
  {
   "cell_type": "code",
   "execution_count": 43,
   "metadata": {},
   "outputs": [
    {
     "data": {
      "text/plain": [
       "0.008333333333333333"
      ]
     },
     "execution_count": 43,
     "metadata": {},
     "output_type": "execute_result"
    }
   ],
   "source": [
    "mult"
   ]
  },
  {
   "cell_type": "code",
   "execution_count": 44,
   "metadata": {},
   "outputs": [],
   "source": [
    "soma = 0\n",
    "for e in [1, 1/4, 1/8, 1/16, 1/32]:\n",
    "        soma = soma + e"
   ]
  },
  {
   "cell_type": "code",
   "execution_count": 45,
   "metadata": {},
   "outputs": [
    {
     "data": {
      "text/plain": [
       "1.46875"
      ]
     },
     "execution_count": 45,
     "metadata": {},
     "output_type": "execute_result"
    }
   ],
   "source": [
    "soma"
   ]
  },
  {
   "cell_type": "markdown",
   "metadata": {},
   "source": [
    "\n",
    "### Calcule as séries a seguir:"
   ]
  },
  {
   "cell_type": "markdown",
   "metadata": {},
   "source": [
    "#### $$1 + \\frac{1}{2} + \\frac{1}{3} + ... \\frac{1}{n} $$"
   ]
  },
  {
   "cell_type": "code",
   "execution_count": 2,
   "metadata": {},
   "outputs": [],
   "source": [
    "def somaSerieHarmonica(x):\n",
    "    lista = []\n",
    "    soma = 0\n",
    "    for i in range(1, x+1):\n",
    "        lista.append (1/i)\n",
    "    for j in lista:\n",
    "        soma = soma + j\n",
    "    return soma"
   ]
  },
  {
   "cell_type": "code",
   "execution_count": 3,
   "metadata": {},
   "outputs": [
    {
     "data": {
      "text/plain": [
       "1.8333333333333333"
      ]
     },
     "execution_count": 3,
     "metadata": {},
     "output_type": "execute_result"
    }
   ],
   "source": [
    "somaSerieHarmonica(3)"
   ]
  },
  {
   "cell_type": "markdown",
   "metadata": {},
   "source": [
    "#### $$1 + \\frac{1}{4} + \\frac{1}{9} + \\frac{1}{16}... \\frac{1}{n^2} $$\n"
   ]
  },
  {
   "cell_type": "code",
   "execution_count": 6,
   "metadata": {},
   "outputs": [],
   "source": [
    "def SomaSerieHarmonica(x):\n",
    "    lista = []\n",
    "    soma = 0\n",
    "    for i in range(1, x+1):\n",
    "        lista.append (1/i**2)\n",
    "    for j in lista:\n",
    "        soma = soma + j\n",
    "    return soma"
   ]
  },
  {
   "cell_type": "code",
   "execution_count": 7,
   "metadata": {},
   "outputs": [
    {
     "data": {
      "text/plain": [
       "1.25"
      ]
     },
     "execution_count": 7,
     "metadata": {},
     "output_type": "execute_result"
    }
   ],
   "source": [
    "SomaSerieHarmonica(2)"
   ]
  },
  {
   "cell_type": "markdown",
   "metadata": {},
   "source": [
    "\n",
    "#### $$\\frac{1}{2} + \\frac{1}{4} + \\frac{1}{8}... \\frac{1}{2^n} $$"
   ]
  },
  {
   "cell_type": "code",
   "execution_count": 18,
   "metadata": {},
   "outputs": [],
   "source": [
    "def SomaSerieHarmonica(x):\n",
    "    lista = []\n",
    "    soma = 0\n",
    "    for i in range(1, 2**x):\n",
    "        lista.append (1/i)\n",
    "    for j in lista:\n",
    "        soma = soma + j\n",
    "    return soma"
   ]
  },
  {
   "cell_type": "code",
   "execution_count": 20,
   "metadata": {},
   "outputs": [
    {
     "data": {
      "text/plain": [
       "1.8333333333333333"
      ]
     },
     "execution_count": 20,
     "metadata": {},
     "output_type": "execute_result"
    }
   ],
   "source": [
    "SomaSerieHarmonica(2)"
   ]
  },
  {
   "cell_type": "markdown",
   "metadata": {},
   "source": [
    "#### $$1 + \\frac{1}{3} + \\frac{1}{9} + \\frac{1}{27}... \\frac{1}{3^n} $$"
   ]
  },
  {
   "cell_type": "code",
   "execution_count": 4,
   "metadata": {},
   "outputs": [],
   "source": [
    "def SomaSerieHarmonica(x):\n",
    "    lista = []\n",
    "    soma = 1\n",
    "    for i in range(1,3**x):\n",
    "        lista.append (1/i)\n",
    "    for j in lista:\n",
    "        soma = soma + j\n",
    "    return soma"
   ]
  },
  {
   "cell_type": "code",
   "execution_count": 5,
   "metadata": {},
   "outputs": [
    {
     "data": {
      "text/plain": [
       "4.854419716215045"
      ]
     },
     "execution_count": 5,
     "metadata": {},
     "output_type": "execute_result"
    }
   ],
   "source": [
    "SomaSerieHarmonica(3)"
   ]
  },
  {
   "cell_type": "markdown",
   "metadata": {},
   "source": [
    "## $$n!$$"
   ]
  },
  {
   "cell_type": "code",
   "execution_count": 26,
   "metadata": {},
   "outputs": [],
   "source": [
    "def fatorial(n):\n",
    "    i = 0\n",
    "    fator = 1\n",
    "    while i < n:\n",
    "        fator = fator*(n-i)\n",
    "        i += 1\n",
    "    return fator"
   ]
  },
  {
   "cell_type": "code",
   "execution_count": 27,
   "metadata": {},
   "outputs": [
    {
     "data": {
      "text/plain": [
       "24"
      ]
     },
     "execution_count": 27,
     "metadata": {},
     "output_type": "execute_result"
    }
   ],
   "source": [
    "fatorial(4)"
   ]
  },
  {
   "cell_type": "code",
   "execution_count": null,
   "metadata": {},
   "outputs": [],
   "source": []
  },
  {
   "cell_type": "markdown",
   "metadata": {},
   "source": [
    "### **AULA 7 - 12/03/2020**"
   ]
  },
  {
   "cell_type": "markdown",
   "metadata": {},
   "source": [
    "#### Somatório: $$\\lim_{n \\to \\infty}\\sum_{n=1}^{1000} = \\frac{1}{n^2}$$"
   ]
  },
  {
   "cell_type": "code",
   "execution_count": 226,
   "metadata": {},
   "outputs": [],
   "source": [
    "# Explicações no quadro, anotadas no caderno."
   ]
  },
  {
   "cell_type": "markdown",
   "metadata": {},
   "source": [
    "### **AULA 8 - Sexta feira 13/03/2020**"
   ]
  },
  {
   "cell_type": "markdown",
   "metadata": {},
   "source": [
    "Exercicios do quadro:"
   ]
  },
  {
   "cell_type": "markdown",
   "metadata": {},
   "source": [
    "1)"
   ]
  },
  {
   "cell_type": "code",
   "execution_count": 1,
   "metadata": {},
   "outputs": [
    {
     "data": {
      "text/plain": [
       "[1.0, 0.5, 0.3333333333333333, 0.25, 0.2, 0.16666666666666666]"
      ]
     },
     "execution_count": 1,
     "metadata": {},
     "output_type": "execute_result"
    }
   ],
   "source": [
    "[1/n for n in range(1, 7)]"
   ]
  },
  {
   "cell_type": "markdown",
   "metadata": {},
   "source": [
    "\n",
    "2)"
   ]
  },
  {
   "cell_type": "code",
   "execution_count": 10,
   "metadata": {},
   "outputs": [],
   "source": [
    "def gerar(n):\n",
    "    return [1/(2**i) for i in range(n)]"
   ]
  },
  {
   "cell_type": "code",
   "execution_count": 11,
   "metadata": {},
   "outputs": [
    {
     "data": {
      "text/plain": [
       "[1.0, 0.5, 0.25, 0.125, 0.0625]"
      ]
     },
     "execution_count": 11,
     "metadata": {},
     "output_type": "execute_result"
    }
   ],
   "source": [
    "gerar(5)"
   ]
  },
  {
   "cell_type": "markdown",
   "metadata": {},
   "source": [
    "3)"
   ]
  },
  {
   "cell_type": "code",
   "execution_count": 25,
   "metadata": {},
   "outputs": [],
   "source": [
    "def somaComprehension(n):\n",
    "    lista = [(1/2**i) for i in range(0, n)]\n",
    "    soma = 0\n",
    "    for s in lista:\n",
    "        soma = soma + s\n",
    "    return soma"
   ]
  },
  {
   "cell_type": "code",
   "execution_count": 27,
   "metadata": {},
   "outputs": [
    {
     "data": {
      "text/plain": [
       "1.5"
      ]
     },
     "execution_count": 27,
     "metadata": {},
     "output_type": "execute_result"
    }
   ],
   "source": [
    "somaComprehension(2)"
   ]
  },
  {
   "cell_type": "code",
   "execution_count": 28,
   "metadata": {},
   "outputs": [],
   "source": [
    "def somaLista(x):\n",
    "    soma = 0\n",
    "    for i in gerar(x):\n",
    "        soma = soma + i\n",
    "    return soma"
   ]
  },
  {
   "cell_type": "code",
   "execution_count": 30,
   "metadata": {},
   "outputs": [
    {
     "data": {
      "text/plain": [
       "1.5"
      ]
     },
     "execution_count": 30,
     "metadata": {},
     "output_type": "execute_result"
    }
   ],
   "source": [
    "somaLista(2)"
   ]
  },
  {
   "cell_type": "code",
   "execution_count": 40,
   "metadata": {},
   "outputs": [],
   "source": [
    "def fatorial(n):\n",
    "    acumulador = 1\n",
    "    for i in range(1, n + 1):\n",
    "        acumulador = acumulador * i\n",
    "    return acumulador"
   ]
  },
  {
   "cell_type": "code",
   "execution_count": 42,
   "metadata": {},
   "outputs": [
    {
     "data": {
      "text/plain": [
       "120"
      ]
     },
     "execution_count": 42,
     "metadata": {},
     "output_type": "execute_result"
    }
   ],
   "source": [
    "fatorial(5)"
   ]
  },
  {
   "cell_type": "code",
   "execution_count": 43,
   "metadata": {},
   "outputs": [],
   "source": [
    "def fatorial2(n):\n",
    "    fator = [1*i for i in range(1, n+1)]\n",
    "    mult = 1\n",
    "    for m in fator:\n",
    "        mult = mult * m\n",
    "    return mult"
   ]
  },
  {
   "cell_type": "code",
   "execution_count": 44,
   "metadata": {},
   "outputs": [
    {
     "data": {
      "text/plain": [
       "120"
      ]
     },
     "execution_count": 44,
     "metadata": {},
     "output_type": "execute_result"
    }
   ],
   "source": [
    "fatorial2(5)"
   ]
  },
  {
   "cell_type": "code",
   "execution_count": null,
   "metadata": {},
   "outputs": [],
   "source": []
  },
  {
   "cell_type": "markdown",
   "metadata": {},
   "source": [
    "### **AULA 9 - 19/03/2020**"
   ]
  },
  {
   "cell_type": "code",
   "execution_count": 9,
   "metadata": {},
   "outputs": [],
   "source": [
    "def somaLista(lst):\n",
    "    soma = 0\n",
    "    for i in lst:\n",
    "        soma = soma + i\n",
    "    return soma"
   ]
  },
  {
   "cell_type": "code",
   "execution_count": 10,
   "metadata": {},
   "outputs": [
    {
     "data": {
      "text/plain": [
       "6"
      ]
     },
     "execution_count": 10,
     "metadata": {},
     "output_type": "execute_result"
    }
   ],
   "source": [
    "somaLista([1,2,3])"
   ]
  },
  {
   "cell_type": "code",
   "execution_count": 17,
   "metadata": {},
   "outputs": [],
   "source": [
    "def geraFatorial(n):\n",
    "    acumulador = 1 \n",
    "    for i in range (1, n + 1):\n",
    "        acumulador = acumulador * i\n",
    "    return acumulador"
   ]
  },
  {
   "cell_type": "code",
   "execution_count": 18,
   "metadata": {},
   "outputs": [
    {
     "data": {
      "text/plain": [
       "6"
      ]
     },
     "execution_count": 18,
     "metadata": {},
     "output_type": "execute_result"
    }
   ],
   "source": [
    "geraFatorial(3)"
   ]
  },
  {
   "cell_type": "code",
   "execution_count": 23,
   "metadata": {},
   "outputs": [],
   "source": [
    "def geraSequencia(n):\n",
    "    return [1/geraFatorial(k) for k in range(n+1)]"
   ]
  },
  {
   "cell_type": "code",
   "execution_count": 24,
   "metadata": {},
   "outputs": [
    {
     "data": {
      "text/plain": [
       "[1.0, 1.0, 0.5, 0.16666666666666666]"
      ]
     },
     "execution_count": 24,
     "metadata": {},
     "output_type": "execute_result"
    }
   ],
   "source": [
    "geraSequencia(3)"
   ]
  },
  {
   "cell_type": "code",
   "execution_count": 28,
   "metadata": {},
   "outputs": [],
   "source": [
    "def valorDeE(n):\n",
    "    return somaLista(geraSequencia(n))"
   ]
  },
  {
   "cell_type": "code",
   "execution_count": 29,
   "metadata": {},
   "outputs": [
    {
     "data": {
      "text/plain": [
       "2.7182818011463845"
      ]
     },
     "execution_count": 29,
     "metadata": {},
     "output_type": "execute_result"
    }
   ],
   "source": [
    "valorDeE(10)"
   ]
  },
  {
   "cell_type": "markdown",
   "metadata": {},
   "source": [
    "### **AULA 10 - 20/03/2020**\n",
    "Exercícios Blackboard sobre **limite**:"
   ]
  },
  {
   "cell_type": "code",
   "execution_count": 30,
   "metadata": {},
   "outputs": [],
   "source": [
    "def limiteF(n):\n",
    "    e = 2.7182\n",
    "    return [i**3/e**i for i in range (0, n)]"
   ]
  },
  {
   "cell_type": "code",
   "execution_count": 45,
   "metadata": {},
   "outputs": [
    {
     "data": {
      "text/plain": [
       "[0.0,\n",
       " 0.36789051578250315,\n",
       " 1.0827474528217296,\n",
       " 1.3443722512226242,\n",
       " 1.1723420465919434,\n",
       " 0.8423701566293464,\n",
       " 0.5355071851429294,\n",
       " 0.3128414305082489,\n",
       " 0.1717982342759233,\n",
       " 0.08999012500456131]"
      ]
     },
     "execution_count": 45,
     "metadata": {},
     "output_type": "execute_result"
    }
   ],
   "source": [
    "limiteF(10)"
   ]
  },
  {
   "cell_type": "code",
   "execution_count": 33,
   "metadata": {},
   "outputs": [],
   "source": [
    "def funcaoF(x):\n",
    "    return x**3/2.7182**x"
   ]
  },
  {
   "cell_type": "code",
   "execution_count": 46,
   "metadata": {},
   "outputs": [],
   "source": [
    "def limF(n):\n",
    "    return [funcaoF(i) for i in range (n)]"
   ]
  },
  {
   "cell_type": "code",
   "execution_count": 47,
   "metadata": {},
   "outputs": [
    {
     "data": {
      "text/plain": [
       "[0.0,\n",
       " 0.36789051578250315,\n",
       " 1.0827474528217296,\n",
       " 1.3443722512226242,\n",
       " 1.1723420465919434,\n",
       " 0.8423701566293464,\n",
       " 0.5355071851429294,\n",
       " 0.3128414305082489,\n",
       " 0.1717982342759233,\n",
       " 0.08999012500456131]"
      ]
     },
     "execution_count": 47,
     "metadata": {},
     "output_type": "execute_result"
    }
   ],
   "source": [
    "limF(10)"
   ]
  },
  {
   "cell_type": "code",
   "execution_count": 37,
   "metadata": {},
   "outputs": [],
   "source": [
    "def limiteGdeX(n):\n",
    "    return [(1/i)**(4*(1/i)) for i in range(1,n)]"
   ]
  },
  {
   "cell_type": "code",
   "execution_count": 38,
   "metadata": {},
   "outputs": [
    {
     "data": {
      "text/plain": [
       "[1.0,\n",
       " 0.25,\n",
       " 0.23112042478354491,\n",
       " 0.25,\n",
       " 0.27594593229224296,\n",
       " 0.3028534321386899,\n",
       " 0.3289173891343177,\n",
       " 0.3535533905932738,\n",
       " 0.376610321303251]"
      ]
     },
     "execution_count": 38,
     "metadata": {},
     "output_type": "execute_result"
    }
   ],
   "source": [
    "limiteGdeX(10)"
   ]
  },
  {
   "cell_type": "code",
   "execution_count": 50,
   "metadata": {},
   "outputs": [],
   "source": [
    "def funcaoA(p):\n",
    "    return (1 + (2/p))**2"
   ]
  },
  {
   "cell_type": "code",
   "execution_count": 55,
   "metadata": {},
   "outputs": [
    {
     "data": {
      "text/plain": [
       "4.0"
      ]
     },
     "execution_count": 55,
     "metadata": {},
     "output_type": "execute_result"
    }
   ],
   "source": [
    "funcaoA(2)"
   ]
  },
  {
   "cell_type": "code",
   "execution_count": 53,
   "metadata": {},
   "outputs": [],
   "source": [
    "def limiteA(a):\n",
    "    return [a*i for i in range (a)]"
   ]
  },
  {
   "cell_type": "code",
   "execution_count": 54,
   "metadata": {},
   "outputs": [
    {
     "data": {
      "text/plain": [
       "[0, 2]"
      ]
     },
     "execution_count": 54,
     "metadata": {},
     "output_type": "execute_result"
    }
   ],
   "source": [
    "limiteA(2)"
   ]
  },
  {
   "cell_type": "code",
   "execution_count": 56,
   "metadata": {},
   "outputs": [],
   "source": [
    "def f(x):\n",
    "    return x**3 / 2.7182**x\n",
    "\n",
    "def lim_f(n):\n",
    "    return [f(i) for i in range(n)]"
   ]
  },
  {
   "cell_type": "code",
   "execution_count": 57,
   "metadata": {},
   "outputs": [
    {
     "data": {
      "text/plain": [
       "[0.0,\n",
       " 0.36789051578250315,\n",
       " 1.0827474528217296,\n",
       " 1.3443722512226242,\n",
       " 1.1723420465919434,\n",
       " 0.8423701566293464,\n",
       " 0.5355071851429294,\n",
       " 0.3128414305082489,\n",
       " 0.1717982342759233,\n",
       " 0.08999012500456131]"
      ]
     },
     "execution_count": 57,
     "metadata": {},
     "output_type": "execute_result"
    }
   ],
   "source": [
    "lim_f(10)"
   ]
  },
  {
   "cell_type": "markdown",
   "metadata": {},
   "source": [
    "### Resolução Ex. 2 Professor:"
   ]
  },
  {
   "cell_type": "code",
   "execution_count": 10,
   "metadata": {},
   "outputs": [],
   "source": [
    "def g(x):\n",
    "    return x**(4*x)\n",
    "\n",
    "def lim_g(n):\n",
    "    return [g(1/i) for i in range(1, n)]"
   ]
  },
  {
   "cell_type": "code",
   "execution_count": 11,
   "metadata": {},
   "outputs": [
    {
     "data": {
      "text/plain": [
       "[1.0,\n",
       " 0.25,\n",
       " 0.23112042478354491,\n",
       " 0.25,\n",
       " 0.27594593229224296,\n",
       " 0.3028534321386899,\n",
       " 0.3289173891343177,\n",
       " 0.3535533905932738,\n",
       " 0.376610321303251]"
      ]
     },
     "execution_count": 11,
     "metadata": {},
     "output_type": "execute_result"
    }
   ],
   "source": [
    "lim_g(10)"
   ]
  },
  {
   "cell_type": "code",
   "execution_count": 39,
   "metadata": {},
   "outputs": [],
   "source": [
    "def somarPares(n):\n",
    "    lista = [2*i for i in range (0,n)]\n",
    "    return somaLista (lista)"
   ]
  },
  {
   "cell_type": "code",
   "execution_count": 44,
   "metadata": {},
   "outputs": [
    {
     "data": {
      "text/plain": [
       "6"
      ]
     },
     "execution_count": 44,
     "metadata": {},
     "output_type": "execute_result"
    }
   ],
   "source": [
    "somarPares(3)"
   ]
  },
  {
   "cell_type": "markdown",
   "metadata": {},
   "source": [
    "### **AULA 11 - 26/03/2020**"
   ]
  },
  {
   "cell_type": "markdown",
   "metadata": {},
   "source": [
    "Somar as notas da turma dos alunos com nota maior do que 7 (sete):\n"
   ]
  },
  {
   "cell_type": "code",
   "execution_count": 60,
   "metadata": {},
   "outputs": [],
   "source": [
    "#### Para essa lista: [9, 6.7, 4, 9.3, 10, 8.9, 5, 6, 2, 9.2, 7.4]"
   ]
  },
  {
   "cell_type": "code",
   "execution_count": 61,
   "metadata": {},
   "outputs": [],
   "source": [
    "def somaMaiorQueSete(lista):\n",
    "    soma = 0\n",
    "    for nota in lista:\n",
    "        if nota >= 7.0:\n",
    "            soma = soma + nota\n",
    "    return soma"
   ]
  },
  {
   "cell_type": "code",
   "execution_count": 62,
   "metadata": {},
   "outputs": [
    {
     "data": {
      "text/plain": [
       "53.800000000000004"
      ]
     },
     "execution_count": 62,
     "metadata": {},
     "output_type": "execute_result"
    }
   ],
   "source": [
    "somaMaiorQueSete([9, 6.7, 4, 9.3, 10, 8.9, 5, 6, 2, 9.2, 7.4])"
   ]
  },
  {
   "cell_type": "code",
   "execution_count": null,
   "metadata": {},
   "outputs": [],
   "source": []
  },
  {
   "cell_type": "markdown",
   "metadata": {},
   "source": [
    "### **PROGRAMAÇÃO FUNCIONAL**"
   ]
  },
  {
   "cell_type": "markdown",
   "metadata": {},
   "source": [
    "#### Lambda Cálculo $\\lambda$     funções anônimas:"
   ]
  },
  {
   "cell_type": "code",
   "execution_count": 7,
   "metadata": {},
   "outputs": [
    {
     "data": {
      "text/plain": [
       "6"
      ]
     },
     "execution_count": 7,
     "metadata": {},
     "output_type": "execute_result"
    }
   ],
   "source": [
    "(lambda x: x + 1)(5)"
   ]
  },
  {
   "cell_type": "code",
   "execution_count": 8,
   "metadata": {},
   "outputs": [
    {
     "data": {
      "text/plain": [
       "9"
      ]
     },
     "execution_count": 8,
     "metadata": {},
     "output_type": "execute_result"
    }
   ],
   "source": [
    "(lambda a, b: a + b)(4, 5)"
   ]
  },
  {
   "cell_type": "code",
   "execution_count": 9,
   "metadata": {},
   "outputs": [
    {
     "data": {
      "text/plain": [
       "36"
      ]
     },
     "execution_count": 9,
     "metadata": {},
     "output_type": "execute_result"
    }
   ],
   "source": [
    "(lambda x, y: x**2 + 3*x - 4*y)(4, -2)"
   ]
  },
  {
   "cell_type": "code",
   "execution_count": 64,
   "metadata": {},
   "outputs": [],
   "source": [
    "def polinomio(x , y):\n",
    "    return (x**2 + 3*x - 4*y)"
   ]
  },
  {
   "cell_type": "code",
   "execution_count": 66,
   "metadata": {},
   "outputs": [
    {
     "data": {
      "text/plain": [
       "36"
      ]
     },
     "execution_count": 66,
     "metadata": {},
     "output_type": "execute_result"
    }
   ],
   "source": [
    "polinomio(4, -2)"
   ]
  },
  {
   "cell_type": "code",
   "execution_count": 12,
   "metadata": {},
   "outputs": [
    {
     "data": {
      "text/plain": [
       "'Leonardo Mafra'"
      ]
     },
     "execution_count": 12,
     "metadata": {},
     "output_type": "execute_result"
    }
   ],
   "source": [
    "(lambda a, b: a + b)(\"Leonardo\", \" Mafra\")"
   ]
  },
  {
   "cell_type": "markdown",
   "metadata": {},
   "source": [
    "Para chamar a função ***lambda*** depois, dê um nome para ela:"
   ]
  },
  {
   "cell_type": "code",
   "execution_count": 13,
   "metadata": {},
   "outputs": [],
   "source": [
    "soma = lambda a, b: a + b"
   ]
  },
  {
   "cell_type": "code",
   "execution_count": 16,
   "metadata": {},
   "outputs": [
    {
     "data": {
      "text/plain": [
       "5"
      ]
     },
     "execution_count": 16,
     "metadata": {},
     "output_type": "execute_result"
    }
   ],
   "source": [
    "soma(2, 3)"
   ]
  },
  {
   "cell_type": "code",
   "execution_count": 17,
   "metadata": {},
   "outputs": [],
   "source": [
    "xxxx = soma"
   ]
  },
  {
   "cell_type": "code",
   "execution_count": 18,
   "metadata": {},
   "outputs": [
    {
     "data": {
      "text/plain": [
       "5"
      ]
     },
     "execution_count": 18,
     "metadata": {},
     "output_type": "execute_result"
    }
   ],
   "source": [
    "xxxx(2, 3)"
   ]
  },
  {
   "cell_type": "code",
   "execution_count": 21,
   "metadata": {},
   "outputs": [
    {
     "data": {
      "text/plain": [
       "True"
      ]
     },
     "execution_count": 21,
     "metadata": {},
     "output_type": "execute_result"
    }
   ],
   "source": [
    "(lambda a, b: a < b)(3, 4)"
   ]
  },
  {
   "cell_type": "code",
   "execution_count": 71,
   "metadata": {},
   "outputs": [
    {
     "data": {
      "text/plain": [
       "[9, 9.3, 10, 8.9, 9.2, 7.4]"
      ]
     },
     "execution_count": 71,
     "metadata": {},
     "output_type": "execute_result"
    }
   ],
   "source": [
    "# Como filtrar (retornar) de uma lista apenas valores maiores do que sete: \n",
    "list(filter(lambda x: x > 7, [9, 6.7, 4, 9.3, 10, 8.9, 5, 6, 2, 9.2, 7.4]))"
   ]
  },
  {
   "cell_type": "code",
   "execution_count": 72,
   "metadata": {},
   "outputs": [
    {
     "data": {
      "text/plain": [
       "[0, 1, 2, 3, 4, 5, 6, 7, 8, 9]"
      ]
     },
     "execution_count": 72,
     "metadata": {},
     "output_type": "execute_result"
    }
   ],
   "source": [
    "# Retornar apenas valores menores do que dez, através de filter em range:\n",
    "list(filter(lambda x: x < 10, range(15)))"
   ]
  },
  {
   "cell_type": "code",
   "execution_count": 73,
   "metadata": {},
   "outputs": [
    {
     "data": {
      "text/plain": [
       "[0, 1, 2, 3, 4, 5, 6]"
      ]
     },
     "execution_count": 73,
     "metadata": {},
     "output_type": "execute_result"
    }
   ],
   "source": [
    "# Representação de lista através de range:\n",
    "list(range(7))"
   ]
  },
  {
   "cell_type": "code",
   "execution_count": 67,
   "metadata": {},
   "outputs": [
    {
     "data": {
      "text/plain": [
       "[13, 67, 25, 11]"
      ]
     },
     "execution_count": 67,
     "metadata": {},
     "output_type": "execute_result"
    }
   ],
   "source": [
    "# [5, 7, 2, 13, 67, 5, 25, 8, 11] - como fazer um filter para selecionar os valor maiores do que 10:\n",
    "list(filter(lambda x: x > 10, [5, 7, 2, 13, 67, 5, 25, 8, 11]))"
   ]
  },
  {
   "cell_type": "code",
   "execution_count": 68,
   "metadata": {},
   "outputs": [
    {
     "data": {
      "text/plain": [
       "116"
      ]
     },
     "execution_count": 68,
     "metadata": {},
     "output_type": "execute_result"
    }
   ],
   "source": [
    "# Como somar valores selecionados (exemplo: soma apenas valores maiores que 10 na lista)\n",
    "sum(filter(lambda x: x>10, [5, 7, 2, 13, 67, 5, 25, 8, 11]))"
   ]
  },
  {
   "cell_type": "code",
   "execution_count": 78,
   "metadata": {},
   "outputs": [
    {
     "data": {
      "text/plain": [
       "[10, 14, 4, 26, 134, 10, 50, 16, 22]"
      ]
     },
     "execution_count": 78,
     "metadata": {},
     "output_type": "execute_result"
    }
   ],
   "source": [
    "# Como multiplicar por um valor x cada elemento de uma lista:\n",
    "[2*x for x in [5, 7, 2, 13, 67, 5, 25, 8, 11]]"
   ]
  },
  {
   "cell_type": "code",
   "execution_count": 77,
   "metadata": {},
   "outputs": [
    {
     "data": {
      "text/plain": [
       "[10, 14, 4, 26, 134, 10, 50, 16, 22]"
      ]
     },
     "execution_count": 77,
     "metadata": {},
     "output_type": "execute_result"
    }
   ],
   "source": [
    "# Como multiplicar por um valor x cada elemento de uma lista:\n",
    "list(map(lambda x: x*2, [5, 7, 2, 13, 67, 5, 25, 8, 11]))"
   ]
  },
  {
   "cell_type": "code",
   "execution_count": 79,
   "metadata": {},
   "outputs": [
    {
     "data": {
      "text/plain": [
       "[9.9,\n",
       " 7.370000000000001,\n",
       " 4.4,\n",
       " 10.230000000000002,\n",
       " 11.0,\n",
       " 9.790000000000001,\n",
       " 5.5,\n",
       " 6.6000000000000005,\n",
       " 2.2,\n",
       " 10.12,\n",
       " 8.14]"
      ]
     },
     "execution_count": 79,
     "metadata": {},
     "output_type": "execute_result"
    }
   ],
   "source": [
    "# Como multiplicar por um valor x cada elemento de uma lista:\n",
    "list(map(lambda x: 1.1 * x, [9, 6.7, 4, 9.3, 10, 8.9, 5, 6, 2, 9.2, 7.4]))"
   ]
  },
  {
   "cell_type": "code",
   "execution_count": 81,
   "metadata": {},
   "outputs": [],
   "source": [
    "import functools"
   ]
  },
  {
   "cell_type": "code",
   "execution_count": 84,
   "metadata": {},
   "outputs": [
    {
     "data": {
      "text/plain": [
       "8"
      ]
     },
     "execution_count": 84,
     "metadata": {},
     "output_type": "execute_result"
    }
   ],
   "source": [
    "# Passando por todos os elementos da lista, aplicando a operação do lambda:\n",
    "functools.reduce(lambda x, y: x + y, [4, 6, 1, 0, -3,])"
   ]
  },
  {
   "cell_type": "code",
   "execution_count": 83,
   "metadata": {},
   "outputs": [
    {
     "data": {
      "text/plain": [
       "815494537.152"
      ]
     },
     "execution_count": 83,
     "metadata": {},
     "output_type": "execute_result"
    }
   ],
   "source": [
    "functools.reduce(lambda x, y: x*y, [9, 6.7, 4, 9.3, 10, 8.9, 5, 6, 2, 9.2, 7.4])"
   ]
  },
  {
   "cell_type": "markdown",
   "metadata": {},
   "source": [
    "#### Exercício com os conceitos ***(filter, map e reduce)*** de ***(26/03)***\n",
    "\n",
    "Pegue a lista de notas:\n",
    "$[9,\\ 6.7,\\ 4,\\ 9.3,\\ 10,\\ 8.9,\\ 5,\\ 6,\\ 2,\\ 9.2,\\ 7.4]$\n",
    "\n",
    "Dê um acréscimo de 10% em cada nota. \n",
    "Após aumentar a nota, somar as notas maiores do que sete. \n",
    "*Tudo em uma linha só!*"
   ]
  },
  {
   "cell_type": "code",
   "execution_count": 85,
   "metadata": {},
   "outputs": [
    {
     "data": {
      "text/plain": [
       "48.18"
      ]
     },
     "execution_count": 85,
     "metadata": {},
     "output_type": "execute_result"
    }
   ],
   "source": [
    "# Com 'map' acrescentamos 10%, com 'filter' separamos as notas maiores que sete, com 'reduce' percorremos a lista somando.\n",
    "import functools\n",
    "functools.reduce(lambda x, y: x + y, filter(lambda x: x > 7, map(lambda x: x * 1.1, [9, 6.7, 4, 10, 8.9, 5, 6, 2, 9.2])))"
   ]
  },
  {
   "cell_type": "markdown",
   "metadata": {},
   "source": [
    "### **AULA 12 - 27/03/2020**"
   ]
  },
  {
   "cell_type": "code",
   "execution_count": 5,
   "metadata": {},
   "outputs": [],
   "source": [
    "soma = 0\n",
    "contador = 1\n",
    "\n",
    "while contador < 10:\n",
    "    soma = soma + contador\n",
    "    contador = contador + 1"
   ]
  },
  {
   "cell_type": "code",
   "execution_count": 6,
   "metadata": {},
   "outputs": [
    {
     "data": {
      "text/plain": [
       "45"
      ]
     },
     "execution_count": 6,
     "metadata": {},
     "output_type": "execute_result"
    }
   ],
   "source": [
    "soma"
   ]
  },
  {
   "cell_type": "markdown",
   "metadata": {},
   "source": [
    "Exercício **(27/03)** Acrescentar 10% para todas as notas, somar apenas as maiores do que 6 (seis) em uma linha:"
   ]
  },
  {
   "cell_type": "code",
   "execution_count": 88,
   "metadata": {},
   "outputs": [
    {
     "data": {
      "text/plain": [
       "86.79000000000002"
      ]
     },
     "execution_count": 88,
     "metadata": {},
     "output_type": "execute_result"
    }
   ],
   "source": [
    "# Com 'map' acrescentamos 10%, com 'filter' separamos as notas maiores que seis, com 'reduce' percorremos a lista somando.\n",
    "import functools\n",
    "functools.reduce(lambda x, y: x + y, filter(lambda x: x > 6, map (lambda x: x * 1.1, [7, 8.9, 5.7, 9, 6, 10, 4.2, 8.5, 7.8, 6.9, 9.1])))"
   ]
  },
  {
   "cell_type": "code",
   "execution_count": null,
   "metadata": {},
   "outputs": [],
   "source": []
  },
  {
   "cell_type": "markdown",
   "metadata": {},
   "source": [
    "## $1/2, 1/4, 1/6, 1/8,...,1/2n$ \n",
    "#### Escrever função que recebe n como parâmetro, somando a sequência com: $(for; list comprehension; filter, map, reduce; while)$:\n"
   ]
  },
  {
   "cell_type": "code",
   "execution_count": 89,
   "metadata": {},
   "outputs": [],
   "source": [
    "def somaListComprehension(n):\n",
    "    return functools.reduce(lambda x,y : x+y, [1/(2*x) for x in range(1, n+1)])"
   ]
  },
  {
   "cell_type": "code",
   "execution_count": 90,
   "metadata": {},
   "outputs": [
    {
     "data": {
      "text/plain": [
       "0.75"
      ]
     },
     "execution_count": 90,
     "metadata": {},
     "output_type": "execute_result"
    }
   ],
   "source": [
    "somaListComprehension(2)"
   ]
  },
  {
   "cell_type": "code",
   "execution_count": 6,
   "metadata": {},
   "outputs": [],
   "source": [
    "def somaWhile(n): \n",
    "    soma = 0\n",
    "    contador = 0\n",
    "    while contador != n:\n",
    "        contador = contador + 1\n",
    "        soma = soma + 1/(2*contador)\n",
    "    return soma"
   ]
  },
  {
   "cell_type": "code",
   "execution_count": 8,
   "metadata": {},
   "outputs": [
    {
     "data": {
      "text/plain": [
       "0.75"
      ]
     },
     "execution_count": 8,
     "metadata": {},
     "output_type": "execute_result"
    }
   ],
   "source": [
    "somaWhile(2)"
   ]
  },
  {
   "cell_type": "code",
   "execution_count": 91,
   "metadata": {},
   "outputs": [],
   "source": [
    "def somaFor(n):\n",
    "    soma = 0\n",
    "    for i in range(1,n+1):\n",
    "        soma = soma + 1/(2*i)\n",
    "    return soma"
   ]
  },
  {
   "cell_type": "code",
   "execution_count": 92,
   "metadata": {},
   "outputs": [
    {
     "data": {
      "text/plain": [
       "0.75"
      ]
     },
     "execution_count": 92,
     "metadata": {},
     "output_type": "execute_result"
    }
   ],
   "source": [
    "somaFor(2)"
   ]
  },
  {
   "cell_type": "code",
   "execution_count": 5,
   "metadata": {},
   "outputs": [],
   "source": [
    "def somaRFM(n): \n",
    "    import functools\n",
    "    return functools.reduce(lambda x,y: x+y, map(lambda x: 1/(2*x),range(1,n+1)))"
   ]
  },
  {
   "cell_type": "code",
   "execution_count": 6,
   "metadata": {},
   "outputs": [
    {
     "data": {
      "text/plain": [
       "0.75"
      ]
     },
     "execution_count": 6,
     "metadata": {},
     "output_type": "execute_result"
    }
   ],
   "source": [
    "somaRFM(2)"
   ]
  },
  {
   "cell_type": "markdown",
   "metadata": {},
   "source": [
    "#### Determinar o maior valor da lista $[7, 8.9, 5.7, 9, 6, 10, 4.2, 8.5, 7.8, 6.9, 9.1]$ com **reduce**:"
   ]
  },
  {
   "cell_type": "code",
   "execution_count": 8,
   "metadata": {},
   "outputs": [
    {
     "name": "stdout",
     "output_type": "stream",
     "text": [
      "10\n"
     ]
    }
   ],
   "source": [
    "from functools import reduce\n",
    "\n",
    "minhaLista = [7,8.9,5.7,9,6,10,4.2,8.5,7.8,6.9,9.1]\n",
    "\n",
    "def acharMax(x, y):\n",
    "    if x > y:\n",
    "        return x\n",
    "    else:\n",
    "        return y\n",
    "\n",
    "max = reduce(acharMax, minhaLista)\n",
    "print(max)"
   ]
  },
  {
   "cell_type": "markdown",
   "metadata": {},
   "source": [
    "### **AULA 13 - 02/04/2020**"
   ]
  },
  {
   "cell_type": "code",
   "execution_count": 93,
   "metadata": {},
   "outputs": [
    {
     "data": {
      "text/plain": [
       "[16, 32]"
      ]
     },
     "execution_count": 93,
     "metadata": {},
     "output_type": "execute_result"
    }
   ],
   "source": [
    "# Relembrando\n",
    "[2**i for i in [1,2,3,4,5] if i > 3]"
   ]
  },
  {
   "cell_type": "code",
   "execution_count": 227,
   "metadata": {},
   "outputs": [
    {
     "data": {
      "image/png": "[encoded data removed]",
      "text/latex": [
       "$\\displaystyle \\left[ 6, \\  2, \\  12, \\  16\\right]$"
      ],
      "text/plain": [
       "[6, 2, 12, 16]"
      ]
     },
     "execution_count": 227,
     "metadata": {},
     "output_type": "execute_result"
    }
   ],
   "source": [
    "# Exemplo de *list comprehension*\n",
    "\n",
    "[2 * x for x in [3, 1, 6, 8]]"
   ]
  },
  {
   "cell_type": "markdown",
   "metadata": {},
   "source": [
    "### Gráficos de funções:\n",
    "#### Plotagem básica"
   ]
  },
  {
   "cell_type": "code",
   "execution_count": 95,
   "metadata": {},
   "outputs": [],
   "source": [
    "from matplotlib import pyplot as plt\n",
    "import numpy as np"
   ]
  },
  {
   "cell_type": "code",
   "execution_count": 3,
   "metadata": {},
   "outputs": [
    {
     "data": {
      "image/png": "[encoded data removed]",
      "text/plain": [
       "<Figure size 432x288 with 1 Axes>"
      ]
     },
     "metadata": {
      "needs_background": "light"
     },
     "output_type": "display_data"
    }
   ],
   "source": [
    "# import numpy as np\n",
    "\n",
    "X = np.linspace(-4, 4, 256)\n",
    "\n",
    "reta = 2*X\n",
    "# reta = list(map(lambda x:2*x, X))\n",
    "# parabola = X**2 -10*X -20\n",
    "\n",
    "# C = np.cos(X) \n",
    "# S = np.sin(X)\n",
    "\n",
    "plt.plot(X, reta)\n",
    "\n",
    "# plt.plot(X, parabola)\n",
    "# plt.plot(X, C)\n",
    "# plt.plot(X, S)\n",
    "\n",
    "plt.show()"
   ]
  },
  {
   "cell_type": "markdown",
   "metadata": {},
   "source": [
    "### Parábola:"
   ]
  },
  {
   "cell_type": "code",
   "execution_count": 96,
   "metadata": {},
   "outputs": [
    {
     "data": {
      "image/png": "[encoded data removed]",
      "text/plain": [
       "<Figure size 432x288 with 1 Axes>"
      ]
     },
     "metadata": {
      "needs_background": "light"
     },
     "output_type": "display_data"
    }
   ],
   "source": [
    "# import numpy as np\n",
    "\n",
    "X = np.linspace(-4, 4, 256)\n",
    "\n",
    "reta = 2*X #operação vetorizada\n",
    "reta = [2*x for x in X]\n",
    "# reta = list(map(lambda x:2*x, X))\n",
    "parabola = X**2 -10*X -20\n",
    "# parabola = [x**2 for x in X]\n",
    "\n",
    "# y = x**3 - 1\n",
    "\n",
    "# C = np.cos(X) \n",
    "# S = np.sin(X)\n",
    "\n",
    "# plt.plot(X, reta)\n",
    "\n",
    "plt.plot(X, parabola)\n",
    "# plt.plot(X, C)\n",
    "# plt.plot(X, S)\n",
    "\n",
    "plt.show()"
   ]
  },
  {
   "cell_type": "markdown",
   "metadata": {},
   "source": [
    "### **AULA 14 - 03/04/20**"
   ]
  },
  {
   "cell_type": "markdown",
   "metadata": {},
   "source": [
    "### Alguns efeitos especiais:"
   ]
  },
  {
   "cell_type": "code",
   "execution_count": 4,
   "metadata": {},
   "outputs": [
    {
     "data": {
      "image/png": "[encoded data removed]",
      "text/plain": [
       "<Figure size 640x480 with 1 Axes>"
      ]
     },
     "metadata": {
      "needs_background": "light"
     },
     "output_type": "display_data"
    }
   ],
   "source": [
    "# Create a figure of size 8x6 inches, 80 dots per inch\n",
    "plt.figure(figsize=(8, 6), dpi=80)\n",
    "\n",
    "# Create a new subplot from a grid of 1x1\n",
    "# plt.subplot(1, 1, 1)\n",
    "\n",
    "X = np.linspace(-np.pi, np.pi, 256, endpoint=True)\n",
    "C = np.cos(X)\n",
    "S = np.sin(X)\n",
    "\n",
    "# Plot cosine with a blue continuous line of width 4 (pixels)\n",
    "plt.plot(X, C, color=\"blue\", linewidth=4.0, linestyle=\"-\")\n",
    "\n",
    "# Plot sine with a green continuous line of width 2 (pixels)\n",
    "plt.plot(X, S, color=\"green\", linewidth=2.0, linestyle=\"-\")\n",
    "\n",
    "# Set x limits\n",
    "plt.xlim(-4.0, 4.0)\n",
    "\n",
    "# Set x ticks\n",
    "plt.xticks(np.linspace(-4, 4, 9, endpoint=True))\n",
    "\n",
    "# Set y limits\n",
    "plt.ylim(-1.0, 1.0)\n",
    "\n",
    "# Set y ticks\n",
    "plt.yticks(np.linspace(-1, 1, 5, endpoint=True))\n",
    "\n",
    "# Save figure using 72 dots per inch\n",
    "plt.savefig(\"exercice_2.png\", dpi=72)\n",
    "\n",
    "# Show result on screen\n",
    "plt.show()"
   ]
  },
  {
   "cell_type": "markdown",
   "metadata": {},
   "source": [
    "## Funções definidas por partes"
   ]
  },
  {
   "cell_type": "code",
   "execution_count": 5,
   "metadata": {},
   "outputs": [],
   "source": [
    "def multiplos_intervalos(x):\n",
    "    if x <= 1:\n",
    "        return 1\n",
    "    elif x>1 and x<=2:\n",
    "        return 2*x\n",
    "    else:\n",
    "        return 4"
   ]
  },
  {
   "cell_type": "code",
   "execution_count": 6,
   "metadata": {},
   "outputs": [
    {
     "data": {
      "image/png": "[encoded data removed]",
      "text/plain": [
       "<Figure size 432x288 with 1 Axes>"
      ]
     },
     "metadata": {
      "needs_background": "light"
     },
     "output_type": "display_data"
    }
   ],
   "source": [
    "# from matplotlib import pyplot as plt\n",
    "# import numpy as np\n",
    "\n",
    "X = np.linspace(-4, 4, 100)\n",
    "\n",
    "Fm = [multiplos_intervalos(x) for x in X]\n",
    "\n",
    "plt.xlabel('eixo X')\n",
    "plt.ylabel('Y')\n",
    "\n",
    "plt.grid(True, linestyle='-.')\n",
    "\n",
    "plt.title(\"Função definida por partes\")\n",
    "plt.plot(X, Fm, color=\"red\", linewidth=5.0, linestyle=\"-\")\n",
    "\n",
    "plt.savefig(\"multiplas_partes.png\", dpi=72)\n",
    "\n",
    "plt.show()"
   ]
  },
  {
   "cell_type": "markdown",
   "metadata": {},
   "source": [
    "#### Exercícios da Aula 02/04: *(exercicios3graficos.ipynb entregue)*"
   ]
  },
  {
   "cell_type": "markdown",
   "metadata": {},
   "source": [
    "1. Implemente uma função definida por partes para cada item a seguir:\n",
    "\n",
    "  - Plotar uma pista de skate.\n",
    "  \n",
    "  - Plotar a fachada de uma casa.\n",
    "\n",
    "  - Plotar uma figura livremente escolhida."
   ]
  },
  {
   "cell_type": "code",
   "execution_count": 97,
   "metadata": {},
   "outputs": [
    {
     "data": {
      "image/png": "[encoded data removed]",
      "text/plain": [
       "<Figure size 432x288 with 1 Axes>"
      ]
     },
     "metadata": {
      "needs_background": "light"
     },
     "output_type": "display_data"
    }
   ],
   "source": [
    "def pista_de_skate(n):\n",
    "    if n == 1.5 or n == -1.5:\n",
    "        return -0.1\n",
    "    elif n>1 or n<-1:\n",
    "        return 0.25\n",
    "    else:\n",
    "        return (1/4)*n**4\n",
    "X = np.linspace(1.5,-1.5,256)\n",
    "ps = [pista_de_skate(x) for x in X]\n",
    "lb = X *0-0.1\n",
    "plt.plot(X, lb, color=\"brown\", linewidth=5.0)\n",
    "plt.plot(X, ps, color= \"gray\", linewidth=5.0)\n",
    "plt.title(\"Pista de skate do bairro\")\n",
    "plt.show()"
   ]
  },
  {
   "cell_type": "code",
   "execution_count": 98,
   "metadata": {},
   "outputs": [
    {
     "data": {
      "image/png": "[encoded data removed]",
      "text/plain": [
       "<Figure size 432x288 with 1 Axes>"
      ]
     },
     "metadata": {
      "needs_background": "light"
     },
     "output_type": "display_data"
    }
   ],
   "source": [
    "X = np.linspace(-8, 8, 100)\n",
    "def fachadaA(x):\n",
    "    if x<=-5:\n",
    "        return x\n",
    "    if x>-5 and x<0:\n",
    "        return x\n",
    "    if x>0 and x<8:\n",
    "        return -x\n",
    "fA = [fachadaA(x) for x in X]\n",
    "\n",
    "def fachadaB(x):\n",
    "    if x == -8:\n",
    "        return -8\n",
    "    if x>-8 and x<8:\n",
    "        return -20    \n",
    "    if x == 8:\n",
    "        return -8  \n",
    "fB = [fachadaB(x) for x in X]\n",
    "\n",
    "plt.xlabel('eixo X')\n",
    "plt.ylabel('Y')\n",
    "\n",
    "plt.title(\"Casinha do bairro\")\n",
    "plt.plot(X, fA, color=\"brown\", linewidth=5.0, linestyle=\"-\")\n",
    "plt.plot(X, fB, color=\"brown\", linewidth=5.0, linestyle=\"-\")\n",
    "\n",
    "plt.show()"
   ]
  },
  {
   "cell_type": "code",
   "execution_count": 99,
   "metadata": {},
   "outputs": [
    {
     "data": {
      "image/png": "[encoded data removed]",
      "text/plain": [
       "<Figure size 432x288 with 1 Axes>"
      ]
     },
     "metadata": {
      "needs_background": "light"
     },
     "output_type": "display_data"
    }
   ],
   "source": [
    "def nova_logo_mcdonalds(n):\n",
    "    if n == 1.5 or n == -1.5:\n",
    "        return 0\n",
    "    elif n>1.5 or n<-1.5:\n",
    "        return 0.25\n",
    "    else:\n",
    "        return (1/4)*n**2\n",
    "X = np.linspace(1.5,-1.5,256)\n",
    "ps = [nova_logo_mcdonalds(x) for x in X]\n",
    "lb = X *0-0.1\n",
    "plt.plot(X, lb, color=\"red\", linewidth=500)\n",
    "plt.plot(X, ps, color= \"yellow\", linewidth=60)\n",
    "plt.title(\"Nova logo do Mc Donalds\")\n",
    "plt.show()"
   ]
  },
  {
   "cell_type": "markdown",
   "metadata": {},
   "source": [
    "### **AULA 15 - 16/04/2020**"
   ]
  },
  {
   "cell_type": "markdown",
   "metadata": {},
   "source": [
    "#### ***Coeficiente Diferencial*** \n",
    "\n",
    "Para determinar *tangentes a uma curva*, utiliza-se o *coeficiente diferencial*, definido pela expressão:\n",
    "\n",
    "$$\\frac{f(a+h) - f(a)}{h}$$"
   ]
  },
  {
   "cell_type": "code",
   "execution_count": 2,
   "metadata": {},
   "outputs": [
    {
     "data": {
      "image/png": "[encoded data removed]",
      "text/plain": [
       "<Figure size 432x288 with 1 Axes>"
      ]
     },
     "metadata": {
      "needs_background": "light"
     },
     "output_type": "display_data"
    }
   ],
   "source": [
    "from matplotlib import pyplot as plt\n",
    "import numpy as np\n",
    "\n",
    "X = np.linspace(-0, 11, 100) #, endpoint=True)\n",
    "\n",
    "# fplot = lambda x: 8*quadrado(x)\n",
    "fplot = lambda x: x**3\n",
    "\n",
    "Fm = [fplot(x) for x in X]\n",
    "\n",
    "plt.xlabel('X')\n",
    "plt.ylabel('Y')\n",
    "\n",
    "plt.grid(True, linestyle='-.')\n",
    "\n",
    "plt.title(\"Coeficiente diferencial\")\n",
    "\n",
    "plt.plot(X, Fm, color=\"red\", linewidth=2.0, linestyle=\"-\")\n",
    "\n",
    "a = 2\n",
    "for i in [6, 8, 10]:\n",
    "  plt.plot([a, i], [fplot(a), fplot(i)], color=\"blue\", linewidth=1.0, linestyle=\"-\")\n",
    "  plt.plot([a, i], [fplot(a), fplot(a)], color=\"blue\", linewidth=1.0, linestyle=\"-.\")\n",
    "  plt.plot((i, i), (fplot(a), fplot(i)), color=\"blue\", linewidth=1.0, linestyle=\"-.\")\n",
    "\n",
    "plt.savefig(\"multiplas_partes.png\", dpi=72)\n",
    "\n",
    "# Show result on screen\n",
    "plt.show()"
   ]
  },
  {
   "cell_type": "code",
   "execution_count": 101,
   "metadata": {},
   "outputs": [],
   "source": [
    "def coef_dif(f, a, h):\n",
    "    return (f(a + h) - f(a))/h "
   ]
  },
  {
   "cell_type": "code",
   "execution_count": 102,
   "metadata": {},
   "outputs": [],
   "source": [
    "def dobro(x):\n",
    "    return 2*x\n",
    "\n",
    "def coef_dif(f, a, h):\n",
    "    return (f(a + h) - f(a))/h "
   ]
  },
  {
   "cell_type": "code",
   "execution_count": 103,
   "metadata": {},
   "outputs": [],
   "source": [
    "cf = coef_dif(dobro, 4, 5)\n",
    "cf1 = coef_dif(lambda x : 2*x, 4, 3)"
   ]
  },
  {
   "cell_type": "code",
   "execution_count": 123,
   "metadata": {},
   "outputs": [
    {
     "data": {
      "image/png": "[encoded data removed]",
      "text/latex": [
       "$\\displaystyle \\left( 2.0, \\  2.0\\right)$"
      ],
      "text/plain": [
       "(2.0, 2.0)"
      ]
     },
     "execution_count": 123,
     "metadata": {},
     "output_type": "execute_result"
    }
   ],
   "source": [
    "cf, cf1"
   ]
  },
  {
   "cell_type": "markdown",
   "metadata": {},
   "source": [
    "$$\\frac{f(2 + 4) - f(2)}{4} = \\frac{(2+4)^3 - 2^3}{4} = 52$$"
   ]
  },
  {
   "cell_type": "markdown",
   "metadata": {},
   "source": [
    "Calcular o *coeficiente diferencial* da função:\n",
    "\n",
    "1. $f(x) = 2x$.\n",
    "1. $f(x) = x^2$.\n",
    "1. $f(x) = x^2 + 1$.\n",
    "\n",
    "\n",
    "$\\frac{f(a+h) - f(a)}{h} = \\frac{(a+h)^2 - a^2}{h} = \\frac{a^2 + 2ah + h^2 - a^2}{h} = \\frac{2ah+h^2}{h} = \\frac{h(2a + h)}{h} = 2a + h$\n",
    "\n",
    "$\\frac{f(a+h) - f(a)}{h} = \\frac{2(a+h) - 2a}{h} = \\frac{2a + 2h - 2a}{h} = \\frac{2h}{h} = 2$\n",
    "\n",
    "$\\frac{f(a+h) - f(a)}{h}=\\frac{[(a+h)^2 + 1] - [(a)^2 + 1]}{h} = \\frac{(a+h)^2 + 1 - (a^2 + 1)}{h} = \\frac{a^2 + 2ah + h^2 + 1 - a^2 - 1}{h} = \\frac{2ah + h^2}{h} = \\frac{h(2a + h)}{h} = 2a + h$"
   ]
  },
  {
   "cell_type": "markdown",
   "metadata": {},
   "source": [
    "### **AULA - 17/04/2020**"
   ]
  },
  {
   "cell_type": "code",
   "execution_count": 107,
   "metadata": {},
   "outputs": [],
   "source": [
    "def dobro(x):\n",
    "    return 2*x\n",
    "\n",
    "dobro_lambda = lambda y: 2*y\n",
    "\n",
    "def coef_dif(f, a, h):\n",
    "    return (f(a + h) - f(a))/h"
   ]
  },
  {
   "cell_type": "code",
   "execution_count": 108,
   "metadata": {},
   "outputs": [
    {
     "data": {
      "text/plain": [
       "2.0"
      ]
     },
     "execution_count": 108,
     "metadata": {},
     "output_type": "execute_result"
    }
   ],
   "source": [
    "cfLV = coef_dif(dobro_lambda, 4, 6)\n",
    "cfLV"
   ]
  },
  {
   "cell_type": "code",
   "execution_count": 109,
   "metadata": {},
   "outputs": [],
   "source": [
    "coef_dif_L = lambda f, a, h: (f(a + h) - f(a))/h"
   ]
  },
  {
   "cell_type": "code",
   "execution_count": 110,
   "metadata": {},
   "outputs": [],
   "source": [
    "import math\n",
    "def sen_x_sobre_x(x):\n",
    "    return math.sin(x)/x\n",
    "\n",
    "def coef_dif(f, a, h):\n",
    "    return (f(a + h) - f(a))/h "
   ]
  },
  {
   "cell_type": "code",
   "execution_count": 126,
   "metadata": {},
   "outputs": [],
   "source": [
    "# ou\n",
    "seno = lambda x: math.sin(x)/x"
   ]
  },
  {
   "cell_type": "code",
   "execution_count": 127,
   "metadata": {},
   "outputs": [
    {
     "data": {
      "image/png": "[encoded data removed]",
      "text/latex": [
       "$\\displaystyle -0.020754365340094824$"
      ],
      "text/plain": [
       "-0.020754365340094824"
      ]
     },
     "execution_count": 127,
     "metadata": {},
     "output_type": "execute_result"
    }
   ],
   "source": [
    "# testando o primeiro (sen_x_sobre_x):\n",
    "meu_seno = coef_dif(sen_x_sobre_x, 40, 0.5)\n",
    "meu_seno"
   ]
  },
  {
   "cell_type": "markdown",
   "metadata": {},
   "source": [
    "B. $g(x) = \\frac{\\mathrm{sin}(x)}{x}$"
   ]
  },
  {
   "cell_type": "code",
   "execution_count": 125,
   "metadata": {},
   "outputs": [
    {
     "data": {
      "image/png": "[encoded data removed]",
      "text/latex": [
       "$\\displaystyle \\left[ -0.017996995133835528, \\  -0.017227700820831096, \\  -0.017148029700646272, \\  -0.017140035780752183, \\  -0.017139236126173518, \\  -0.017139156111706244, \\  -0.0171391483644312, \\  -0.01713914912770953, \\  -0.017139092228779518\\right]$"
      ],
      "text/plain": [
       "[-0.017996995133835528, -0.017227700820831096, -0.017148029700646272, -0.01714\n",
       "0035780752183, -0.017139236126173518, -0.017139156111706244, -0.01713914836443\n",
       "12, -0.01713914912770953, -0.017139092228779518]"
      ]
     },
     "execution_count": 125,
     "metadata": {},
     "output_type": "execute_result"
    }
   ],
   "source": [
    "# Exercício B:\n",
    "sinFunc = lambda x: math.sin(x)/x\n",
    "[coef_dif(sinFunc, 40, h) for h in [1/10**y for y in range(1,10)]]"
   ]
  },
  {
   "cell_type": "markdown",
   "metadata": {},
   "source": [
    "### **AULA - 23/04/2020**"
   ]
  },
  {
   "cell_type": "markdown",
   "metadata": {},
   "source": [
    "Soluções para determinar o **limite** do *coeficiente diferencial:*"
   ]
  },
  {
   "cell_type": "code",
   "execution_count": 128,
   "metadata": {},
   "outputs": [
    {
     "data": {
      "image/png": "[encoded data removed]",
      "text/latex": [
       "$\\displaystyle \\left[ 9.0, \\  8.5, \\  8.333333333333325, \\  8.25, \\  8.200000000000003, \\  8.166666666666686, \\  8.142857142857157, \\  8.125, \\  8.111111111111075\\right]$"
      ],
      "text/plain": [
       "[9.0, 8.5, 8.333333333333325, 8.25, 8.200000000000003, 8.166666666666686, 8.14\n",
       "2857142857157, 8.125, 8.111111111111075]"
      ]
     },
     "execution_count": 128,
     "metadata": {},
     "output_type": "execute_result"
    }
   ],
   "source": [
    "def coef_diferencial(f, a, h):\n",
    "    return (f(a + h) - f(a))/h\n",
    "\n",
    "def quadrado(x):\n",
    "    return x**2\n",
    "\n",
    "def quadrado_maisum(x):\n",
    "    return x**2 + 1\n",
    "\n",
    "n = 10\n",
    "[coef_diferencial(quadrado, 4, h) for h in [1/n for n in range (1, n)]]"
   ]
  },
  {
   "cell_type": "code",
   "execution_count": 118,
   "metadata": {},
   "outputs": [
    {
     "data": {
      "text/plain": [
       "([-0.40760871072621846,\n",
       "  -0.43051971154251645,\n",
       "  -0.43426429228924823,\n",
       "  -0.4353536147395034,\n",
       "  -0.4357517402014996,\n",
       "  -0.43590976689746175,\n",
       "  -0.43596978162540134,\n",
       "  -0.43598579269208404,\n",
       "  -0.4359810232980168],\n",
       " [-0.40760871072621846,\n",
       "  -0.43051971154251645,\n",
       "  -0.43426429228924823,\n",
       "  -0.4353536147395034,\n",
       "  -0.4357517402014996,\n",
       "  -0.43590976689746175,\n",
       "  -0.43596978162540134,\n",
       "  -0.43598579269208404,\n",
       "  -0.4359810232980168])"
      ]
     },
     "execution_count": 118,
     "metadata": {},
     "output_type": "execute_result"
    }
   ],
   "source": [
    "n = 10\n",
    "lim0 = [(lambda f, a, h: (f(a + h) - f(a))/h)(lambda x: math.sin(x)/x, 2, 1/h) for h in range(1,n)]\n",
    "def coeficienteDiferencial(f, a, h):\n",
    "    return (f(a + h) - f(a))/h\n",
    "lim1 = [coeficienteDiferencial(lambda x: math.sin(x)/x, 2, 1/h) for h in range (1,n)]\n",
    "lim0,lim1"
   ]
  },
  {
   "cell_type": "markdown",
   "metadata": {},
   "source": [
    "#### Derivadas (matemática simbólica)"
   ]
  },
  {
   "cell_type": "code",
   "execution_count": 119,
   "metadata": {},
   "outputs": [],
   "source": [
    "from __future__ import division\n",
    "import sympy as sym\n",
    "from sympy import *\n",
    "\n",
    "from IPython.display import display\n",
    "\n",
    "from sympy.interactive import printing\n",
    "printing.init_printing()\n",
    "\n",
    "x, y, z, h = symbols(\"x y z h\")\n",
    "a, b, k, m, n = symbols(\"a b k m n\", integer=True)\n",
    "f, g = map(Function, 'fg')"
   ]
  },
  {
   "cell_type": "code",
   "execution_count": 120,
   "metadata": {},
   "outputs": [
    {
     "data": {
      "image/png": "[encoded data removed]",
      "text/latex": [
       "$\\displaystyle 2 x$"
      ],
      "text/plain": [
       "2⋅x"
      ]
     },
     "execution_count": 120,
     "metadata": {},
     "output_type": "execute_result"
    }
   ],
   "source": [
    "quadratica = x**2\n",
    "diff(quadratica, x) #derivada da função quadrática"
   ]
  },
  {
   "cell_type": "code",
   "execution_count": 235,
   "metadata": {},
   "outputs": [
    {
     "data": {
      "image/png": "[encoded data removed]",
      "text/latex": [
       "$\\displaystyle 6 x^{2} + 1$"
      ],
      "text/plain": [
       "   2    \n",
       "6⋅x  + 1"
      ]
     },
     "execution_count": 235,
     "metadata": {},
     "output_type": "execute_result"
    }
   ],
   "source": [
    "cubica = 2*x**3 + x\n",
    "diff(cubica)"
   ]
  },
  {
   "cell_type": "code",
   "execution_count": 121,
   "metadata": {},
   "outputs": [
    {
     "data": {
      "image/png": "[encoded data removed]",
      "text/latex": [
       "$\\displaystyle 3 x^{2}$"
      ],
      "text/plain": [
       "   2\n",
       "3⋅x "
      ]
     },
     "execution_count": 121,
     "metadata": {},
     "output_type": "execute_result"
    }
   ],
   "source": [
    "cubica = x**3\n",
    "diff(cubica)"
   ]
  },
  {
   "cell_type": "code",
   "execution_count": 122,
   "metadata": {},
   "outputs": [
    {
     "data": {
      "image/png": "[encoded data removed]",
      "text/latex": [
       "$\\displaystyle 4 x^{3}$"
      ],
      "text/plain": [
       "   3\n",
       "4⋅x "
      ]
     },
     "execution_count": 122,
     "metadata": {},
     "output_type": "execute_result"
    }
   ],
   "source": [
    "quart = x**4\n",
    "diff(quart)"
   ]
  },
  {
   "cell_type": "code",
   "execution_count": 236,
   "metadata": {},
   "outputs": [
    {
     "data": {
      "image/png": "[encoded data removed]",
      "text/latex": [
       "$\\displaystyle \\cos{\\left(x \\right)}$"
      ],
      "text/plain": [
       "cos(x)"
      ]
     },
     "execution_count": 236,
     "metadata": {},
     "output_type": "execute_result"
    }
   ],
   "source": [
    "# seno = sin(x)\n",
    "diff(sin(x))"
   ]
  },
  {
   "cell_type": "markdown",
   "metadata": {},
   "source": [
    "#### $$f(x) = x^n \\mapsto nx^{n-1}$$"
   ]
  },
  {
   "cell_type": "markdown",
   "metadata": {},
   "source": [
    "$f(x) = x^5 - 2x^3 + x^2 + x^1 - 4 \\ \\mapsto f'(x) = 5x^4 - 6x^2 + 2x + 1$\n",
    "\n",
    "$f(x) = x^2 \\mapsto f'(x) = 2x$\n",
    "\n",
    "$f(x) = x^3 \\mapsto f'(x) = 3x^2$\n",
    "\n",
    "$f(x) = x^4 \\mapsto f'(x) = 4x^3$\n",
    "\n",
    "$f(x) = x^5 \\mapsto f'(x) = 5x^4$"
   ]
  },
  {
   "cell_type": "code",
   "execution_count": 129,
   "metadata": {},
   "outputs": [
    {
     "data": {
      "image/png": "[encoded data removed]",
      "text/latex": [
       "$\\displaystyle \\cos{\\left(x \\right)}$"
      ],
      "text/plain": [
       "cos(x)"
      ]
     },
     "execution_count": 129,
     "metadata": {},
     "output_type": "execute_result"
    }
   ],
   "source": [
    "# seno = sin(x)\n",
    "diff (sin(x))"
   ]
  },
  {
   "cell_type": "code",
   "execution_count": 130,
   "metadata": {},
   "outputs": [
    {
     "data": {
      "image/png": "[encoded data removed]",
      "text/latex": [
       "$\\displaystyle - \\sin{\\left(x \\right)}$"
      ],
      "text/plain": [
       "-sin(x)"
      ]
     },
     "execution_count": 130,
     "metadata": {},
     "output_type": "execute_result"
    }
   ],
   "source": [
    "diff(cos(x))"
   ]
  },
  {
   "cell_type": "code",
   "execution_count": 131,
   "metadata": {},
   "outputs": [
    {
     "data": {
      "image/png": "[encoded data removed]",
      "text/latex": [
       "$\\displaystyle - \\cos{\\left(x \\right)}$"
      ],
      "text/plain": [
       "-cos(x)"
      ]
     },
     "execution_count": 131,
     "metadata": {},
     "output_type": "execute_result"
    }
   ],
   "source": [
    "diff(- sin(x))"
   ]
  },
  {
   "cell_type": "code",
   "execution_count": 132,
   "metadata": {},
   "outputs": [
    {
     "data": {
      "image/png": "[encoded data removed]",
      "text/latex": [
       "$\\displaystyle \\sin{\\left(x \\right)}$"
      ],
      "text/plain": [
       "sin(x)"
      ]
     },
     "execution_count": 132,
     "metadata": {},
     "output_type": "execute_result"
    }
   ],
   "source": [
    "diff(- cos(x))"
   ]
  },
  {
   "cell_type": "code",
   "execution_count": 133,
   "metadata": {},
   "outputs": [
    {
     "data": {
      "image/png": "[encoded data removed]",
      "text/latex": [
       "$\\displaystyle \\left( \\cos{\\left(x \\right)}, \\  - \\sin{\\left(x \\right)}, \\  - \\cos{\\left(x \\right)}, \\  \\sin{\\left(x \\right)}\\right)$"
      ],
      "text/plain": [
       "(cos(x), -sin(x), -cos(x), sin(x))"
      ]
     },
     "execution_count": 133,
     "metadata": {},
     "output_type": "execute_result"
    }
   ],
   "source": [
    "diff(sin(x)), diff(diff(sin(x))), diff(diff(diff(sin(x)))), diff(diff(diff(diff(sin(x)))))"
   ]
  },
  {
   "cell_type": "code",
   "execution_count": 134,
   "metadata": {},
   "outputs": [],
   "source": [
    "exponencial = exp(x)"
   ]
  },
  {
   "cell_type": "code",
   "execution_count": 135,
   "metadata": {},
   "outputs": [
    {
     "name": "stdout",
     "output_type": "stream",
     "text": [
      "E\n"
     ]
    }
   ],
   "source": [
    "print (exp(1))"
   ]
  },
  {
   "cell_type": "code",
   "execution_count": 136,
   "metadata": {},
   "outputs": [
    {
     "data": {
      "image/png": "[encoded data removed]",
      "text/latex": [
       "$\\displaystyle e^{x}$"
      ],
      "text/plain": [
       " x\n",
       "ℯ "
      ]
     },
     "execution_count": 136,
     "metadata": {},
     "output_type": "execute_result"
    }
   ],
   "source": [
    "diff(diff(diff(exp(x))))"
   ]
  },
  {
   "cell_type": "code",
   "execution_count": 137,
   "metadata": {},
   "outputs": [
    {
     "data": {
      "image/png": "[encoded data removed]",
      "text/latex": [
       "$\\displaystyle 8 e^{2 x}$"
      ],
      "text/plain": [
       "   2⋅x\n",
       "8⋅ℯ   "
      ]
     },
     "execution_count": 137,
     "metadata": {},
     "output_type": "execute_result"
    }
   ],
   "source": [
    "diff(diff(diff(exp(2*x))))"
   ]
  },
  {
   "cell_type": "markdown",
   "metadata": {},
   "source": [
    "#### Qual é a *regra geral* das derivadas sucessivas de $e^{2x}$?"
   ]
  },
  {
   "cell_type": "code",
   "execution_count": 138,
   "metadata": {},
   "outputs": [
    {
     "data": {
      "image/png": "[encoded data removed]",
      "text/latex": [
       "$\\displaystyle \\left( e^{x}, \\  2 e^{2 x}, \\  4 e^{2 x}, \\  8 e^{2 x}\\right)$"
      ],
      "text/plain": [
       "⎛ x     2⋅x     2⋅x     2⋅x⎞\n",
       "⎝ℯ , 2⋅ℯ   , 4⋅ℯ   , 8⋅ℯ   ⎠"
      ]
     },
     "execution_count": 138,
     "metadata": {},
     "output_type": "execute_result"
    }
   ],
   "source": [
    "exponencial = exp(x)\n",
    "diff(exp(x)), diff(exp(2*x)), diff(diff(exp(2*x))), diff(diff(diff(exp(2*x))))"
   ]
  },
  {
   "cell_type": "markdown",
   "metadata": {},
   "source": [
    "#### A regra é: $2^ne^{2x}$"
   ]
  },
  {
   "cell_type": "code",
   "execution_count": 139,
   "metadata": {},
   "outputs": [],
   "source": [
    "# Ou seja, 'n' é a ordem da derivada."
   ]
  },
  {
   "cell_type": "markdown",
   "metadata": {},
   "source": [
    "### **Aula 24/04/2020**"
   ]
  },
  {
   "cell_type": "code",
   "execution_count": 140,
   "metadata": {},
   "outputs": [
    {
     "data": {
      "image/png": "[encoded data removed]",
      "text/latex": [
       "$\\displaystyle x^{3} + 3 x^{2} + 3 x + 1$"
      ],
      "text/plain": [
       " 3      2          \n",
       "x  + 3⋅x  + 3⋅x + 1"
      ]
     },
     "execution_count": 140,
     "metadata": {},
     "output_type": "execute_result"
    }
   ],
   "source": [
    "exp0 = (x + 1)**3\n",
    "expand(exp0)"
   ]
  },
  {
   "cell_type": "code",
   "execution_count": 141,
   "metadata": {},
   "outputs": [
    {
     "data": {
      "image/png": "[encoded data removed]",
      "text/latex": [
       "$\\displaystyle x^{4} + 4 x^{3} + 6 x^{2} + 4 x + 1$"
      ],
      "text/plain": [
       " 4      3      2          \n",
       "x  + 4⋅x  + 6⋅x  + 4⋅x + 1"
      ]
     },
     "execution_count": 141,
     "metadata": {},
     "output_type": "execute_result"
    }
   ],
   "source": [
    "exp0 = (x + 1)**4\n",
    "expand(exp0)"
   ]
  },
  {
   "cell_type": "code",
   "execution_count": 142,
   "metadata": {},
   "outputs": [
    {
     "data": {
      "image/png": "[encoded data removed]",
      "text/latex": [
       "$\\displaystyle x^{8} + 8 x^{7} + 28 x^{6} + 58 x^{5} + 76 x^{4} + 60 x^{3} + 25 x^{2}$"
      ],
      "text/plain": [
       " 8      7       6       5       4       3       2\n",
       "x  + 8⋅x  + 28⋅x  + 58⋅x  + 76⋅x  + 60⋅x  + 25⋅x "
      ]
     },
     "execution_count": 142,
     "metadata": {},
     "output_type": "execute_result"
    }
   ],
   "source": [
    "exp0 = ((x + 1)**4 + (x - 1))**2\n",
    "expand(exp0)"
   ]
  },
  {
   "cell_type": "code",
   "execution_count": 143,
   "metadata": {},
   "outputs": [
    {
     "data": {
      "image/png": "[encoded data removed]",
      "text/latex": [
       "$\\displaystyle \\sin{\\left(x \\right)}$"
      ],
      "text/plain": [
       "sin(x)"
      ]
     },
     "execution_count": 143,
     "metadata": {},
     "output_type": "execute_result"
    }
   ],
   "source": [
    "expand((x * sin(x) - 1)/x + 1/x)"
   ]
  },
  {
   "cell_type": "code",
   "execution_count": 144,
   "metadata": {},
   "outputs": [
    {
     "data": {
      "image/png": "[encoded data removed]",
      "text/latex": [
       "$\\displaystyle x - 1$"
      ],
      "text/plain": [
       "x - 1"
      ]
     },
     "execution_count": 144,
     "metadata": {},
     "output_type": "execute_result"
    }
   ],
   "source": [
    "simplify((x**2 - 1)/(x + 1))"
   ]
  },
  {
   "cell_type": "code",
   "execution_count": 145,
   "metadata": {},
   "outputs": [
    {
     "data": {
      "image/png": "[encoded data removed]",
      "text/latex": [
       "$\\displaystyle \\left(x + \\left(x + 1\\right)^{4} - 1\\right)^{2}$"
      ],
      "text/plain": [
       "                  2\n",
       "⎛           4    ⎞ \n",
       "⎝x + (x + 1)  - 1⎠ "
      ]
     },
     "execution_count": 145,
     "metadata": {},
     "output_type": "execute_result"
    }
   ],
   "source": [
    "simplify(((x + 1)**4 + (x - 1))**2)"
   ]
  },
  {
   "cell_type": "markdown",
   "metadata": {},
   "source": [
    "***Simplify*** é utilizado para simplificar o cálculo algébrico."
   ]
  },
  {
   "cell_type": "code",
   "execution_count": 146,
   "metadata": {},
   "outputs": [
    {
     "data": {
      "image/png": "[encoded data removed]",
      "text/latex": [
       "$\\displaystyle \\left[ -2, \\  - 2 i, \\  2 i\\right]$"
      ],
      "text/plain": [
       "[-2, -2⋅ⅈ, 2⋅ⅈ]"
      ]
     },
     "execution_count": 146,
     "metadata": {},
     "output_type": "execute_result"
    }
   ],
   "source": [
    "exp1 = Eq(x**3 + 2*x**2 + 4*x + 8, 0)\n",
    "solve(exp1)"
   ]
  },
  {
   "cell_type": "markdown",
   "metadata": {},
   "source": [
    "***Solve*** significa resolver; como mostra as raízes acima."
   ]
  },
  {
   "cell_type": "code",
   "execution_count": 147,
   "metadata": {},
   "outputs": [
    {
     "data": {
      "image/png": "[encoded data removed]",
      "text/latex": [
       "$\\displaystyle x^{3} + 2 x^{2} + 4 x + 8 = 0$"
      ],
      "text/plain": [
       " 3      2              \n",
       "x  + 2⋅x  + 4⋅x + 8 = 0"
      ]
     },
     "metadata": {},
     "output_type": "display_data"
    }
   ],
   "source": [
    "exp1 = Eq(x**3 + 2*x**2 + 4*x + 8, 0)\n",
    "display(exp1)"
   ]
  },
  {
   "cell_type": "markdown",
   "metadata": {},
   "source": [
    "***Display*** serve para visualização da expressão."
   ]
  },
  {
   "cell_type": "code",
   "execution_count": 148,
   "metadata": {},
   "outputs": [
    {
     "data": {
      "image/png": "[encoded data removed]",
      "text/latex": [
       "$\\displaystyle - \\frac{1}{6}$"
      ],
      "text/plain": [
       "-1/6"
      ]
     },
     "execution_count": 148,
     "metadata": {},
     "output_type": "execute_result"
    }
   ],
   "source": [
    "limit((sin(x) - x)/x**3, x, 0)"
   ]
  },
  {
   "cell_type": "code",
   "execution_count": 149,
   "metadata": {},
   "outputs": [
    {
     "data": {
      "image/png": "[encoded data removed]",
      "text/latex": [
       "$\\displaystyle 0$"
      ],
      "text/plain": [
       "0"
      ]
     },
     "execution_count": 149,
     "metadata": {},
     "output_type": "execute_result"
    }
   ],
   "source": [
    "limit(x/(x**2 - 1), x, 0)"
   ]
  },
  {
   "cell_type": "code",
   "execution_count": 150,
   "metadata": {},
   "outputs": [
    {
     "data": {
      "image/png": "[encoded data removed]",
      "text/latex": [
       "$\\displaystyle -\\infty$"
      ],
      "text/plain": [
       "-∞"
      ]
     },
     "execution_count": 150,
     "metadata": {},
     "output_type": "execute_result"
    }
   ],
   "source": [
    "limit((x**2 - 1)/x, x, 0)"
   ]
  },
  {
   "cell_type": "code",
   "execution_count": 151,
   "metadata": {},
   "outputs": [
    {
     "data": {
      "image/png": "[encoded data removed]",
      "text/latex": [
       "$\\displaystyle \\frac{\\tan{\\left(1 \\right)}}{1 + \\tan{\\left(1 \\right)}}$"
      ],
      "text/plain": [
       "  tan(1)  \n",
       "──────────\n",
       "1 + tan(1)"
      ]
     },
     "execution_count": 151,
     "metadata": {},
     "output_type": "execute_result"
    }
   ],
   "source": [
    "limit(tan(x)/(1 + tan(x)), x, 1)"
   ]
  },
  {
   "cell_type": "code",
   "execution_count": 152,
   "metadata": {},
   "outputs": [
    {
     "data": {
      "image/png": "[encoded data removed]",
      "text/latex": [
       "$\\displaystyle 0.608979049230431$"
      ],
      "text/plain": [
       "0.608979049230431"
      ]
     },
     "execution_count": 152,
     "metadata": {},
     "output_type": "execute_result"
    }
   ],
   "source": [
    "limit(tan(x)/(1 + tan(x)), x, 1).evalf()"
   ]
  },
  {
   "cell_type": "markdown",
   "metadata": {},
   "source": [
    "O ***.evalf*** faz computação numérica."
   ]
  },
  {
   "cell_type": "markdown",
   "metadata": {},
   "source": [
    "**Computação numérica:** dá como resultado valores numéricos."
   ]
  },
  {
   "cell_type": "markdown",
   "metadata": {},
   "source": [
    "**Computação simbólica:** dá como resultado símbolos"
   ]
  },
  {
   "cell_type": "markdown",
   "metadata": {},
   "source": [
    "### **AULA 30/04/2020**"
   ]
  },
  {
   "cell_type": "markdown",
   "metadata": {},
   "source": [
    "### Derivadas & Funções"
   ]
  },
  {
   "cell_type": "markdown",
   "metadata": {},
   "source": [
    "**Função crescente**"
   ]
  },
  {
   "cell_type": "markdown",
   "metadata": {},
   "source": [
    "$x_1 <= x_2 \\longrightarrow f(x_1) <= f(x_2)$"
   ]
  },
  {
   "cell_type": "markdown",
   "metadata": {},
   "source": [
    "**Função descrescente**"
   ]
  },
  {
   "cell_type": "markdown",
   "metadata": {},
   "source": [
    "$x_1 <= x_2 \\longrightarrow f(x_1) >= f(x_2)$"
   ]
  },
  {
   "cell_type": "code",
   "execution_count": 154,
   "metadata": {},
   "outputs": [],
   "source": [
    "# Lembre-se: 'Quando x é 0 a função não cresce nem descresce'"
   ]
  },
  {
   "cell_type": "code",
   "execution_count": 155,
   "metadata": {},
   "outputs": [],
   "source": [
    "from matplotlib import pyplot as plt\n",
    "import numpy as np"
   ]
  },
  {
   "cell_type": "code",
   "execution_count": 156,
   "metadata": {},
   "outputs": [
    {
     "data": {
      "image/png": "[encoded data removed]",
      "text/plain": [
       "<Figure size 432x288 with 1 Axes>"
      ]
     },
     "metadata": {
      "needs_background": "light"
     },
     "output_type": "display_data"
    }
   ],
   "source": [
    "# import numpy as np\n",
    "X = np.linspace(-4, 4, 200)\n",
    "\n",
    "reta = 2 * X # operação vetorizada\n",
    "# reta = [2*x for x in X]\n",
    "# reta = list(map(lambda x:2*x, X))\n",
    "parabola = X**2 # - 10*X - 20\n",
    "# parabola = [x**2 for x in X]\n",
    "# parabola = list(map(lambda x:x**2, X))\n",
    "cubica = X**3\n",
    "\n",
    "C = np.cos(X) \n",
    "# S = np.sin(X)\n",
    "\n",
    "plt.grid(True, linestyle='-.')\n",
    "plt.plot(X, reta)\n",
    "plt.plot(X, parabola)\n",
    "#plt.plot(X, cubica)\n",
    "# plt.plot(X, C)\n",
    "# plt.plot(X, S)\n",
    "\n",
    "plt.show()"
   ]
  },
  {
   "cell_type": "code",
   "execution_count": null,
   "metadata": {},
   "outputs": [],
   "source": []
  },
  {
   "cell_type": "markdown",
   "metadata": {},
   "source": [
    "**FUNÇÃO PAR:** possui simetria com relação ao eixo y. $$f(-x) = f(x)$$"
   ]
  },
  {
   "cell_type": "markdown",
   "metadata": {},
   "source": [
    "**FUNÇÃO IMPAR:** precisa pegar um dos trechos dela, quando y cresce. $$f(-x) = -f(x)$$"
   ]
  },
  {
   "cell_type": "code",
   "execution_count": 157,
   "metadata": {},
   "outputs": [],
   "source": [
    "# Quando as tg são positivas, as funções são crescentes e quando as tg são negativas, elas descrescem;\n",
    "# Quando a função nem cresce nem descrece a tangente é 0."
   ]
  },
  {
   "cell_type": "markdown",
   "metadata": {},
   "source": [
    "#### A derivada de $f(X) = x^2$ é $f'(x) = 2x$ "
   ]
  },
  {
   "cell_type": "markdown",
   "metadata": {},
   "source": [
    "#### Exercício:"
   ]
  },
  {
   "cell_type": "markdown",
   "metadata": {},
   "source": [
    "1. $f(x) = (x-1)(x+1)(x+2)$\n",
    "1. Expandir a função (pode usar Sympy)\n",
    "1. Derivar a função expandida\n",
    "1. No mesmo gráfico plotar $f(x)$ e $f'(x)$\n",
    "1. Usando os gráficos, fazer uma análise de $f(x)$ a partir da sua derivada, mostrando os intervalos em que a $f(x)$ é *crescente* ou *decrescente* ou possui *pontos críticos*."
   ]
  },
  {
   "cell_type": "code",
   "execution_count": 158,
   "metadata": {},
   "outputs": [
    {
     "data": {
      "image/png": "[encoded data removed]",
      "text/latex": [
       "$\\displaystyle x^{3} + 2 x^{2} - x - 2$"
      ],
      "text/plain": [
       " 3      2        \n",
       "x  + 2⋅x  - x - 2"
      ]
     },
     "execution_count": 158,
     "metadata": {},
     "output_type": "execute_result"
    }
   ],
   "source": [
    "expand((x - 1)*(x + 1)*(x + 2))"
   ]
  },
  {
   "cell_type": "code",
   "execution_count": 159,
   "metadata": {},
   "outputs": [
    {
     "data": {
      "image/png": "[encoded data removed]",
      "text/latex": [
       "$\\displaystyle 3 x^{2} + 4 x - 1$"
      ],
      "text/plain": [
       "   2          \n",
       "3⋅x  + 4⋅x - 1"
      ]
     },
     "execution_count": 159,
     "metadata": {},
     "output_type": "execute_result"
    }
   ],
   "source": [
    "diff(x**3 + 2*x**2 - x - 2)"
   ]
  },
  {
   "cell_type": "code",
   "execution_count": 160,
   "metadata": {},
   "outputs": [
    {
     "data": {
      "image/png": "[encoded data removed]",
      "text/plain": [
       "<Figure size 432x288 with 1 Axes>"
      ]
     },
     "metadata": {
      "needs_background": "light"
     },
     "output_type": "display_data"
    }
   ],
   "source": [
    "X = np.linspace(-4, 4, 200)\n",
    "\n",
    "exemplo = X**3 + 2*X**2 - X - 2 \n",
    "d_exemplo = 3*X**2 + 4*X - 1 # - 10*X - 20\n",
    "\n",
    "\n",
    "C = np.cos(X) \n",
    "\n",
    "\n",
    "plt.grid(True, linestyle='-.')\n",
    "plt.plot(X, exemplo)\n",
    "plt.plot(X, d_exemplo)\n",
    "\n",
    "\n",
    "plt.show()"
   ]
  },
  {
   "cell_type": "markdown",
   "metadata": {},
   "source": [
    "### **AULA 07/05/2020**"
   ]
  },
  {
   "cell_type": "markdown",
   "metadata": {},
   "source": [
    "Resolução da Lista de Exercícios 1. (arquivo ***leonardoMafraLISTA.ipynb***)"
   ]
  },
  {
   "cell_type": "markdown",
   "metadata": {},
   "source": [
    "### **AULA 08/05/2020**"
   ]
  },
  {
   "cell_type": "markdown",
   "metadata": {},
   "source": [
    "### **Recursividade**"
   ]
  },
  {
   "cell_type": "markdown",
   "metadata": {},
   "source": [
    "*Função fatorial:*"
   ]
  },
  {
   "cell_type": "markdown",
   "metadata": {},
   "source": [
    "$5! = 5 \\times 4!$\n",
    "\n",
    "$4! = 4 \\times 3!$\n",
    "\n",
    "$3! = 3 \\times 2!$\n",
    "\n",
    "$2! = 2 \\times 1!$\n",
    "\n",
    "$1! = 1 \\times 0!$\n",
    "\n",
    "$0! = 1$"
   ]
  },
  {
   "cell_type": "markdown",
   "metadata": {},
   "source": [
    "*Definição matemática de fatorial:*\n",
    "\n",
    "$0! = 1$\n",
    "\n",
    "$n! = n \\times (n - 1)!$"
   ]
  },
  {
   "cell_type": "markdown",
   "metadata": {},
   "source": [
    "*Fatorial em Haskell:*\n",
    "\n",
    "`factorial 0 = 1`\n",
    "\n",
    "`factorial n = n * factorial (n - 1)`"
   ]
  },
  {
   "cell_type": "code",
   "execution_count": 162,
   "metadata": {},
   "outputs": [],
   "source": [
    "# Fatorial em Python:"
   ]
  },
  {
   "cell_type": "code",
   "execution_count": 163,
   "metadata": {},
   "outputs": [],
   "source": [
    "def fatorial(n):\n",
    "    if n == 0:\n",
    "        return 1\n",
    "    else:\n",
    "        return n * fatorial(n - 1)"
   ]
  },
  {
   "cell_type": "code",
   "execution_count": 164,
   "metadata": {},
   "outputs": [
    {
     "data": {
      "image/png": "[encoded data removed]",
      "text/latex": [
       "$\\displaystyle 120$"
      ],
      "text/plain": [
       "120"
      ]
     },
     "execution_count": 164,
     "metadata": {},
     "output_type": "execute_result"
    }
   ],
   "source": [
    "fatorial(5)"
   ]
  },
  {
   "cell_type": "markdown",
   "metadata": {},
   "source": [
    "**Exercício**"
   ]
  },
  {
   "cell_type": "markdown",
   "metadata": {},
   "source": [
    "$1 + {1 \\over 2} + {1 \\over 3} + {1 \\over 4} + {1 \\over 5} + \\cdots + {1 \\over n} $"
   ]
  },
  {
   "cell_type": "markdown",
   "metadata": {},
   "source": [
    "Programe a série harmônica recursivamente:"
   ]
  },
  {
   "cell_type": "code",
   "execution_count": 165,
   "metadata": {},
   "outputs": [],
   "source": [
    "def harmonica(n):\n",
    "    if n == 1:\n",
    "        return 1\n",
    "    else:\n",
    "        return 1/n + harmonica(n - 1)    "
   ]
  },
  {
   "cell_type": "code",
   "execution_count": 166,
   "metadata": {},
   "outputs": [
    {
     "data": {
      "image/png": "[encoded data removed]",
      "text/latex": [
       "$\\displaystyle 1$"
      ],
      "text/plain": [
       "1"
      ]
     },
     "execution_count": 166,
     "metadata": {},
     "output_type": "execute_result"
    }
   ],
   "source": [
    "harmonica(1)"
   ]
  },
  {
   "cell_type": "markdown",
   "metadata": {},
   "source": [
    "Aplicação de **map** em Python:"
   ]
  },
  {
   "cell_type": "code",
   "execution_count": 167,
   "metadata": {},
   "outputs": [
    {
     "data": {
      "image/png": "[encoded data removed]",
      "text/latex": [
       "$\\displaystyle \\left[ 30, \\  -10, \\  0, \\  50, \\  80\\right]$"
      ],
      "text/plain": [
       "[30, -10, 0, 50, 80]"
      ]
     },
     "execution_count": 167,
     "metadata": {},
     "output_type": "execute_result"
    }
   ],
   "source": [
    "list(map(lambda x: x*10, [3, -1, 0, 5, 8]))\n",
    "# map(lambda x: x*10, [3, -1, 0, 5, 8])\n",
    "# map é função unária, enxerga um valor só, estrutura linear"
   ]
  },
  {
   "cell_type": "markdown",
   "metadata": {},
   "source": [
    "Implementação recursiva:"
   ]
  },
  {
   "cell_type": "code",
   "execution_count": 168,
   "metadata": {},
   "outputs": [],
   "source": [
    "def my_map(func, lista):\n",
    "    if lista == []:\n",
    "        return []\n",
    "    else:\n",
    "        return [func(lista[0])] + my_map(func, lista[1:])"
   ]
  },
  {
   "cell_type": "code",
   "execution_count": 169,
   "metadata": {},
   "outputs": [
    {
     "data": {
      "image/png": "[encoded data removed]",
      "text/latex": [
       "$\\displaystyle \\left[ 30, \\  -10, \\  0, \\  50, \\  80\\right]$"
      ],
      "text/plain": [
       "[30, -10, 0, 50, 80]"
      ]
     },
     "execution_count": 169,
     "metadata": {},
     "output_type": "execute_result"
    }
   ],
   "source": [
    "my_map(lambda x: x*10,  [3, -1, 0, 5, 8])"
   ]
  },
  {
   "cell_type": "code",
   "execution_count": 170,
   "metadata": {},
   "outputs": [
    {
     "data": {
      "image/png": "[encoded data removed]",
      "text/latex": [
       "$\\displaystyle \\left[ 2, \\  3, \\  4, \\  5, \\  6\\right]$"
      ],
      "text/plain": [
       "[2, 3, 4, 5, 6]"
      ]
     },
     "execution_count": 170,
     "metadata": {},
     "output_type": "execute_result"
    }
   ],
   "source": [
    "[1,2,3,4,5,6] [1:]"
   ]
  },
  {
   "cell_type": "markdown",
   "metadata": {},
   "source": [
    "### **AULA 14/05/2020**"
   ]
  },
  {
   "cell_type": "markdown",
   "metadata": {},
   "source": [
    "**Avaliação 1 (Correção)**"
   ]
  },
  {
   "cell_type": "code",
   "execution_count": 230,
   "metadata": {},
   "outputs": [],
   "source": [
    "#1\n",
    "def funcaoAvaliacao(x):\n",
    "    if x <= -4:\n",
    "        return \"Valor inválido, pois x deve ser maior que -4.\"\n",
    "    else:\n",
    "        return 1/((4+x)**0.5)"
   ]
  },
  {
   "cell_type": "code",
   "execution_count": 229,
   "metadata": {},
   "outputs": [
    {
     "data": {
      "image/png": "[encoded data removed]",
      "text/latex": [
       "$\\displaystyle 0.5$"
      ],
      "text/plain": [
       "0.5"
      ]
     },
     "execution_count": 229,
     "metadata": {},
     "output_type": "execute_result"
    }
   ],
   "source": [
    "funcaoAvaliacao(0)"
   ]
  },
  {
   "cell_type": "code",
   "execution_count": 12,
   "metadata": {},
   "outputs": [],
   "source": [
    "#Q1 Versão da correção 2.5/2.5\n",
    "\n",
    "# Nessa situação, não podemos ter divisão por zero, ou seja (x != -4) e nem raíz de números negativos. \n",
    "# 4 + x > 0, x > -4\n",
    "\n",
    "def f(x):\n",
    "    return 1/(4+x)**0.5 if x > -4 else \"Valor de x inválido\""
   ]
  },
  {
   "cell_type": "code",
   "execution_count": 2,
   "metadata": {},
   "outputs": [
    {
     "data": {
      "text/plain": [
       "'Valor de x inválido'"
      ]
     },
     "execution_count": 2,
     "metadata": {},
     "output_type": "execute_result"
    }
   ],
   "source": [
    "f(-4)"
   ]
  },
  {
   "cell_type": "code",
   "execution_count": 7,
   "metadata": {},
   "outputs": [
    {
     "data": {
      "text/plain": [
       "[<matplotlib.lines.Line2D at 0x14ef8989dc8>]"
      ]
     },
     "execution_count": 7,
     "metadata": {},
     "output_type": "execute_result"
    }
   ],
   "source": [
    "#2 Versão da prova\n",
    "import  matplotlib\n",
    "import  matplotlib . pyplot  as  plt\n",
    "import numpy as np\n",
    "\n",
    "def corpoPanela(x):\n",
    "    if x > 14:\n",
    "        return 15\n",
    "    elif x >= 5 and x < 14:\n",
    "        return 10\n",
    "    else: return 15\n",
    "\n",
    "def caboPanela(x):\n",
    "    if x < 4.5:\n",
    "        return 15\n",
    "\n",
    "X = np.linspace(0, 15, 150)\n",
    "\n",
    "corpoPanela = [corpoPanela(x) for x in X]\n",
    "caboPanela = [caboPanela(x) for x in X]\n",
    "\n",
    "plt.xlabel('x')\n",
    "plt.ylabel('y')\n",
    "\n",
    "plt.plot(X, corpoPanela, color = \"gray\", linewidth = 10)\n",
    "plt.plot(X, caboPanela, color = \"black\", linewidth = 10)"
   ]
  },
  {
   "cell_type": "code",
   "execution_count": 10,
   "metadata": {},
   "outputs": [],
   "source": [
    "#3 Versão adaptada com função (antes estava 'n=6')\n",
    "def geraSequencia(n):\n",
    "    return (f\"Gerando sequência para avaliação: {[1/(5**(2*i + 1)) for i in range(1, n)]}\")"
   ]
  },
  {
   "cell_type": "code",
   "execution_count": 233,
   "metadata": {},
   "outputs": [
    {
     "data": {
      "text/plain": [
       "'Gerando sequência para avaliação: [0.008, 0.00032, 1.28e-05, 5.12e-07, 2.048e-08]'"
      ]
     },
     "execution_count": 233,
     "metadata": {},
     "output_type": "execute_result"
    }
   ],
   "source": [
    "geraSequencia(6)"
   ]
  },
  {
   "cell_type": "code",
   "execution_count": 4,
   "metadata": {},
   "outputs": [],
   "source": [
    "#Versão de correção 2.5/2.5\n",
    "\n",
    "def lista(n):\n",
    "    return [1/5**(2*i + 1) for i in range (1, n+1)]"
   ]
  },
  {
   "cell_type": "code",
   "execution_count": 6,
   "metadata": {},
   "outputs": [
    {
     "data": {
      "text/plain": [
       "[0.008, 0.00032, 1.28e-05, 5.12e-07, 2.048e-08]"
      ]
     },
     "execution_count": 6,
     "metadata": {},
     "output_type": "execute_result"
    }
   ],
   "source": [
    "lista(5)"
   ]
  },
  {
   "cell_type": "code",
   "execution_count": 7,
   "metadata": {},
   "outputs": [],
   "source": [
    "#Versão de correção 2.5/2.5\n",
    "\n",
    "funcao = lambda x: (2*x**2 - 3)/(x**0.5)\n",
    "condicao = lambda x: x > 0\n",
    "coef_diferencial = lambda f,a,h, cond: (f(a + h) - f(a))/ h if cond(a) and cond(a+h) else \"Inválido\"\n",
    "limite = lambda n: [coef_diferencial(funcao, 2, 1/m, condicao) for m in range (1, n+1)]\n",
    "lista_limite = limite(60)"
   ]
  },
  {
   "cell_type": "code",
   "execution_count": 8,
   "metadata": {},
   "outputs": [
    {
     "data": {
      "text/plain": [
       "[5.1247201319116495,\n",
       " 4.945587296774366,\n",
       " 4.886868488957251,\n",
       " 4.857864376269051,\n",
       " 4.840605876608601,\n",
       " 4.8291683497292714,\n",
       " 4.821034868811389,\n",
       " 4.814955685042303,\n",
       " 4.810240354605064,\n",
       " 4.80647649439764,\n",
       " 4.803402670344118,\n",
       " 4.800845148518549,\n",
       " 4.798683979087053,\n",
       " 4.796833685151574,\n",
       " 4.795231712301931,\n",
       " 4.793831229459691,\n",
       " 4.792596481969299,\n",
       " 4.791499700405658,\n",
       " 4.790518989682688,\n",
       " 4.789636854036656,\n",
       " 4.788839145129471,\n",
       " 4.788114298148074,\n",
       " 4.7874527679356955,\n",
       " 4.786846606608197,\n",
       " 4.786289142905342,\n",
       " 4.785774735794402,\n",
       " 4.785298583014901,\n",
       " 4.784856570783935,\n",
       " 4.784445154697766,\n",
       " 4.784061264526791,\n",
       " 4.783702227494148,\n",
       " 4.78336570598249,\n",
       " 4.783049646599522,\n",
       " 4.782752238257687,\n",
       " 4.7824718774603285,\n",
       " 4.782207139388754,\n",
       " 4.781956753690774,\n",
       " 4.781719584101646,\n",
       " 4.781494611209029,\n",
       " 4.781280917808566,\n",
       " 4.781077676408453,\n",
       " 4.780884138523232,\n",
       " 4.780699625465085,\n",
       " 4.7805235203933805,\n",
       " 4.780355261426836,\n",
       " 4.78019433565678,\n",
       " 4.780040273924751,\n",
       " 4.779892646256101,\n",
       " 4.779751057852548,\n",
       " 4.779615145567662,\n",
       " 4.779484574796547,\n",
       " 4.779359036726824,\n",
       " 4.77923824589979,\n",
       " 4.779121938043987,\n",
       " 4.779009868145638,\n",
       " 4.778901808725696,\n",
       " 4.7787975482988765,\n",
       " 4.778696889992322,\n",
       " 4.778599650305067,\n",
       " 4.778505657991765]"
      ]
     },
     "execution_count": 8,
     "metadata": {},
     "output_type": "execute_result"
    }
   ],
   "source": [
    "lista_limite"
   ]
  },
  {
   "cell_type": "code",
   "execution_count": 9,
   "metadata": {},
   "outputs": [],
   "source": [
    "# Resposta: 4.77"
   ]
  },
  {
   "cell_type": "markdown",
   "metadata": {},
   "source": [
    "### **AULA 15/05/2020**"
   ]
  },
  {
   "cell_type": "markdown",
   "metadata": {},
   "source": [
    "***Anatomia de uma função recursiva***"
   ]
  },
  {
   "cell_type": "code",
   "execution_count": 171,
   "metadata": {},
   "outputs": [],
   "source": [
    "# ESTRUTURA DE UMA LISTA:"
   ]
  },
  {
   "cell_type": "markdown",
   "metadata": {},
   "source": [
    "Uma lista é uma estrutura binária composta de *cabeça* e *cauda*:"
   ]
  },
  {
   "cell_type": "markdown",
   "metadata": {},
   "source": [
    "***Cabeça***: primeiro elemento = 4\n",
    "\n",
    "***Cauda***: \"outra lista\" [-1, 3, 5]"
   ]
  },
  {
   "cell_type": "code",
   "execution_count": 172,
   "metadata": {},
   "outputs": [],
   "source": [
    "lst = [4, -1, 3, 5]"
   ]
  },
  {
   "cell_type": "code",
   "execution_count": 234,
   "metadata": {},
   "outputs": [
    {
     "data": {
      "image/png": "[encoded data removed]",
      "text/latex": [
       "$\\displaystyle \\left[ 3, \\  5\\right]$"
      ],
      "text/plain": [
       "[3, 5]"
      ]
     },
     "execution_count": 234,
     "metadata": {},
     "output_type": "execute_result"
    }
   ],
   "source": [
    "4\n",
    "[-1, 3, 5]\n",
    "-1\n",
    "[3, 5]"
   ]
  },
  {
   "cell_type": "code",
   "execution_count": 173,
   "metadata": {},
   "outputs": [],
   "source": [
    "# def head\n",
    "# lambda tail"
   ]
  },
  {
   "cell_type": "markdown",
   "metadata": {},
   "source": [
    "### **Conceito de lista:**"
   ]
  },
  {
   "cell_type": "markdown",
   "metadata": {},
   "source": [
    "A estrutura binária da lista pode ser definida segundo as definições a seguir."
   ]
  },
  {
   "cell_type": "markdown",
   "metadata": {},
   "source": [
    "`lista = []`\n",
    "\n",
    "`lista = valor ++ lista`\n",
    "\n",
    "`lista = cons(valor, lista)`"
   ]
  },
  {
   "cell_type": "markdown",
   "metadata": {},
   "source": [
    "A operação `++`, que inclui um `valor` a uma lista já existente, tem origem na operação `cons` da linguagem `LISP`."
   ]
  },
  {
   "cell_type": "code",
   "execution_count": null,
   "metadata": {},
   "outputs": [],
   "source": [
    "[2, 0, -1, 4] = 2++[0, -1, 4] = 2++(0++([0, -1, 4])) = 2++(0++(-1++[4])) = 2++(0++(-1++(4++[]))"
   ]
  },
  {
   "cell_type": "code",
   "execution_count": null,
   "metadata": {},
   "outputs": [],
   "source": [
    "# Em lisp:\n",
    "[3, 1, 6] = cons(3, [1, 6]) = cons(3, cons(1, cons([6])) = cons(3, cons(1, cons 6, cons([])))"
   ]
  },
  {
   "cell_type": "markdown",
   "metadata": {},
   "source": [
    "*FORMALIZANDO A ESTRUTURA DA LISTA:*"
   ]
  },
  {
   "cell_type": "markdown",
   "metadata": {},
   "source": [
    "`Lista` é uma estrutura à qual se aplicam as operações `head` (*cabeça da lista*) e `tail` (*cauda ou resto da lista*). "
   ]
  },
  {
   "cell_type": "code",
   "execution_count": null,
   "metadata": {},
   "outputs": [],
   "source": [
    "def head(lst):\n",
    "    return lst[0]"
   ]
  },
  {
   "cell_type": "code",
   "execution_count": 48,
   "metadata": {},
   "outputs": [
    {
     "data": {
      "image/png": "[encoded data removed]",
      "text/latex": [
       "$\\displaystyle 1$"
      ],
      "text/plain": [
       "1"
      ]
     },
     "execution_count": 48,
     "metadata": {},
     "output_type": "execute_result"
    }
   ],
   "source": [
    "head([1, 2, 3])"
   ]
  },
  {
   "cell_type": "code",
   "execution_count": 180,
   "metadata": {},
   "outputs": [],
   "source": [
    "def tail(lst):\n",
    "    return lst[1:]"
   ]
  },
  {
   "cell_type": "code",
   "execution_count": 181,
   "metadata": {},
   "outputs": [
    {
     "data": {
      "image/png": "[encoded data removed]",
      "text/latex": [
       "$\\displaystyle \\left[ 2, \\  3\\right]$"
      ],
      "text/plain": [
       "[2, 3]"
      ]
     },
     "execution_count": 181,
     "metadata": {},
     "output_type": "execute_result"
    }
   ],
   "source": [
    "tail([1, 2, 3])"
   ]
  },
  {
   "cell_type": "code",
   "execution_count": 41,
   "metadata": {},
   "outputs": [],
   "source": [
    "def my_cons(valor, lst):\n",
    "    return [valor] + lst"
   ]
  },
  {
   "cell_type": "code",
   "execution_count": 51,
   "metadata": {},
   "outputs": [],
   "source": [
    "# Como somar lista? Soluções Funcionais"
   ]
  },
  {
   "cell_type": "markdown",
   "metadata": {},
   "source": [
    "#### **Comprimento de uma lista:**"
   ]
  },
  {
   "cell_type": "code",
   "execution_count": 183,
   "metadata": {},
   "outputs": [],
   "source": [
    "def length(lst):\n",
    "    if lst == []:\n",
    "        return 0\n",
    "    else:\n",
    "        return 1 + length(tail(lst))"
   ]
  },
  {
   "cell_type": "code",
   "execution_count": 184,
   "metadata": {},
   "outputs": [
    {
     "data": {
      "image/png": "[encoded data removed]",
      "text/latex": [
       "$\\displaystyle 4$"
      ],
      "text/plain": [
       "4"
      ]
     },
     "execution_count": 184,
     "metadata": {},
     "output_type": "execute_result"
    }
   ],
   "source": [
    "length([5, 6, 2, 8])"
   ]
  },
  {
   "cell_type": "markdown",
   "metadata": {},
   "source": [
    "**Exercício:**"
   ]
  },
  {
   "cell_type": "markdown",
   "metadata": {},
   "source": [
    "Escreva recursivamente que some as n primeiras parcelas de [1, 1/2, 1/3, 1/4, 1/5, 1/6,...1/(n-1), 1/n]"
   ]
  },
  {
   "cell_type": "code",
   "execution_count": 186,
   "metadata": {},
   "outputs": [],
   "source": [
    "def soma_harmonica(n):\n",
    "    if n == 1:\n",
    "        return 1 \n",
    "    else:\n",
    "        return 1/n + soma_harmonica(n - 1)"
   ]
  },
  {
   "cell_type": "code",
   "execution_count": 187,
   "metadata": {},
   "outputs": [
    {
     "data": {
      "image/png": "[encoded data removed]",
      "text/latex": [
       "$\\displaystyle 1.5$"
      ],
      "text/plain": [
       "1.5"
      ]
     },
     "execution_count": 187,
     "metadata": {},
     "output_type": "execute_result"
    }
   ],
   "source": [
    "soma_harmonica(2)"
   ]
  },
  {
   "cell_type": "markdown",
   "metadata": {},
   "source": [
    "Exercício com lambda:"
   ]
  },
  {
   "cell_type": "code",
   "execution_count": 188,
   "metadata": {},
   "outputs": [],
   "source": [
    "import functools\n",
    "soma_harmonica_map = lambda n: functools.reduce(lambda x, y: x + y, [1/n for n in range(1, n+1)])"
   ]
  },
  {
   "cell_type": "code",
   "execution_count": 190,
   "metadata": {},
   "outputs": [
    {
     "data": {
      "image/png": "[encoded data removed]",
      "text/latex": [
       "$\\displaystyle 1.5$"
      ],
      "text/plain": [
       "1.5"
      ]
     },
     "execution_count": 190,
     "metadata": {},
     "output_type": "execute_result"
    }
   ],
   "source": [
    "soma_harmonica_map(2)"
   ]
  },
  {
   "cell_type": "markdown",
   "metadata": {},
   "source": [
    "### **AULA 21/05/2020**"
   ]
  },
  {
   "cell_type": "code",
   "execution_count": 192,
   "metadata": {},
   "outputs": [],
   "source": [
    "# Paradigmas de Programação"
   ]
  },
  {
   "cell_type": "markdown",
   "metadata": {},
   "source": [
    "Modelos Computacionais dos Paradigmas"
   ]
  },
  {
   "cell_type": "markdown",
   "metadata": {},
   "source": [
    "1. Paradigma Funcional\n",
    "  - Função pura\n",
    "  - Lambda Cáculo\n",
    "  - Recursividade\n",
    "1. Paradigma Imperativo\n",
    "  - Estado mutável\n",
    "  - Sequência de operações\n",
    "  - Repetição: `while`, `for`\n",
    "1. Paradigma Lógico\n",
    "  - Relação\n",
    "  - Cálculo de Predicados de Primeira Ordem"
   ]
  },
  {
   "cell_type": "code",
   "execution_count": 195,
   "metadata": {},
   "outputs": [],
   "source": [
    "# Como somar uma lista?\n",
    "def head(lst):\n",
    "    return lst[0]\n",
    "def tail(lst):\n",
    "    return lst[1:]\n",
    "def my_cons(valor, lst):\n",
    "    return [valor] + lst"
   ]
  },
  {
   "cell_type": "code",
   "execution_count": 196,
   "metadata": {},
   "outputs": [],
   "source": [
    "def soma_lista(lst):\n",
    "    if lst == []:\n",
    "        return 0\n",
    "    else:\n",
    "        return head(lst) + soma_lista(tail(lst))"
   ]
  },
  {
   "cell_type": "code",
   "execution_count": 197,
   "metadata": {},
   "outputs": [],
   "source": [
    "import functools\n",
    "soma_lst = lambda lst: functools.reduce(lambda x, y: x+y, lst)"
   ]
  },
  {
   "cell_type": "code",
   "execution_count": 198,
   "metadata": {},
   "outputs": [],
   "source": [
    "def soma_lst_for(lst):\n",
    "    acc = 0\n",
    "    for e in lst:\n",
    "        acc = acc + e\n",
    "    return acc"
   ]
  },
  {
   "cell_type": "code",
   "execution_count": 199,
   "metadata": {},
   "outputs": [],
   "source": [
    "def soma_lst_while(lst):\n",
    "    acc = 0\n",
    "    i = 0\n",
    "    compr = len(lst)\n",
    "    while i <= (compr - 1):\n",
    "        acc = acc + lst[i]\n",
    "        i = i + 1\n",
    "    return acc"
   ]
  },
  {
   "cell_type": "code",
   "execution_count": 201,
   "metadata": {},
   "outputs": [],
   "source": [
    "# Considerações sobre performace:"
   ]
  },
  {
   "cell_type": "markdown",
   "metadata": {},
   "source": [
    "Modelo imperativo:"
   ]
  },
  {
   "cell_type": "code",
   "execution_count": 202,
   "metadata": {},
   "outputs": [],
   "source": [
    "taxa_correção = 1.35"
   ]
  },
  {
   "cell_type": "code",
   "execution_count": 203,
   "metadata": {},
   "outputs": [],
   "source": [
    "def corrige(preco):\n",
    "    return preco * taxa_correção"
   ]
  },
  {
   "cell_type": "code",
   "execution_count": 204,
   "metadata": {},
   "outputs": [
    {
     "data": {
      "image/png": "[encoded data removed]",
      "text/latex": [
       "$\\displaystyle 67.5$"
      ],
      "text/plain": [
       "67.5"
      ]
     },
     "execution_count": 204,
     "metadata": {},
     "output_type": "execute_result"
    }
   ],
   "source": [
    "novo_preco = corrige(50) \n",
    "novo_preco"
   ]
  },
  {
   "cell_type": "code",
   "execution_count": 206,
   "metadata": {},
   "outputs": [],
   "source": [
    "# Corrigindo:"
   ]
  },
  {
   "cell_type": "code",
   "execution_count": 207,
   "metadata": {},
   "outputs": [],
   "source": [
    "def corrigeOK(preco, taxa):\n",
    "    return preco * taxa"
   ]
  },
  {
   "cell_type": "code",
   "execution_count": 208,
   "metadata": {},
   "outputs": [
    {
     "data": {
      "image/png": "[encoded data removed]",
      "text/latex": [
       "$\\displaystyle 65.0$"
      ],
      "text/plain": [
       "65.0"
      ]
     },
     "execution_count": 208,
     "metadata": {},
     "output_type": "execute_result"
    }
   ],
   "source": [
    "corrigeOK(50, 1.3)"
   ]
  },
  {
   "cell_type": "markdown",
   "metadata": {},
   "source": [
    "### **AULA 28/05/2020**"
   ]
  },
  {
   "cell_type": "code",
   "execution_count": 20,
   "metadata": {},
   "outputs": [],
   "source": [
    "from matplotlib import pyplot as plt\n",
    "import numpy as np"
   ]
  },
  {
   "cell_type": "code",
   "execution_count": 210,
   "metadata": {},
   "outputs": [
    {
     "data": {
      "image/png": "[encoded data removed]",
      "text/plain": [
       "<Figure size 432x288 with 1 Axes>"
      ]
     },
     "metadata": {
      "needs_background": "light"
     },
     "output_type": "display_data"
    }
   ],
   "source": [
    "# import numpy as np\n",
    "X = np.linspace(-4, 4, 200)\n",
    "\n",
    "parabola = X**2 # - 10*X - 20\n",
    "parabola = [x**2 for x in X]\n",
    "# parabola = list(map(lambda x:x**2, X))\n",
    "\n",
    "cubica = X**3 #lambda x: x**3\n",
    "\n",
    "plt.grid(True, linestyle='-.')\n",
    "plt.plot(X, parabola)\n",
    "# plt.plot(X, cubica)\n",
    "# plt.plot(X, C)\n",
    "# plt.plot(X, S)\n",
    "plt.axvspan(-3., 3.0, color='y', alpha=0.5, lw=0)\n",
    "\n",
    "plt.show()"
   ]
  },
  {
   "cell_type": "code",
   "execution_count": 211,
   "metadata": {},
   "outputs": [],
   "source": [
    "## ASPECTOS COMPUTACIONAIS"
   ]
  },
  {
   "cell_type": "code",
   "execution_count": 1,
   "metadata": {},
   "outputs": [],
   "source": [
    "from __future__ import division\n",
    "import sympy as sym\n",
    "from sympy import *\n",
    "\n",
    "from IPython.display import display\n",
    "from sympy.interactive import printing\n",
    "printing.init_printing()\n",
    "\n",
    "x, y, z, h, t = symbols(\"x y z h t\")\n",
    "a, b, k, m, n = symbols(\"a b k m n\", integer=True)\n",
    "f, g = map(Function, 'fg')"
   ]
  },
  {
   "cell_type": "markdown",
   "metadata": {},
   "source": [
    "### Integral definida"
   ]
  },
  {
   "cell_type": "markdown",
   "metadata": {},
   "source": [
    " O conceito de integral de uma função está estreitamente ligado à determinação da área do gráfico de uma função com relação ao eixo horizontal. "
   ]
  },
  {
   "cell_type": "code",
   "execution_count": 14,
   "metadata": {},
   "outputs": [],
   "source": [
    "# Representa o valor numérico da área (podendo ser negativo)"
   ]
  },
  {
   "cell_type": "markdown",
   "metadata": {},
   "source": [
    "$$\\int_{a}^{b} f(x)\\ dx \\quad\\quad\\quad\\quad\\int_{0}^{1} x^2\\ dx$$"
   ]
  },
  {
   "cell_type": "code",
   "execution_count": 6,
   "metadata": {},
   "outputs": [
    {
     "data": {
      "image/png": "[encoded data removed]",
      "text/latex": [
       "$\\displaystyle \\frac{1}{3}$"
      ],
      "text/plain": [
       "1/3"
      ]
     },
     "execution_count": 6,
     "metadata": {},
     "output_type": "execute_result"
    }
   ],
   "source": [
    "integrate(x**2, (x, 0, 1))"
   ]
  },
  {
   "cell_type": "markdown",
   "metadata": {},
   "source": [
    "**Propriedades da Integral definida**\n",
    "\n",
    "$$\\int\\nolimits_{a}^{b} c\\, dx = c\\ (b - a) \\quad \\quad \\quad\n",
    "\\int\\nolimits_{2}^{5} 7\\, dx = 7\\ (5 - 2)$$\n",
    "$$\\int\\nolimits_{a}^{b} c\\ f(x)\\, dx =  c \\int\\nolimits_{a}^{b} f(x)\\, dx \\qquad \\textrm{em que c é uma constante} $$"
   ]
  },
  {
   "cell_type": "code",
   "execution_count": 237,
   "metadata": {},
   "outputs": [
    {
     "data": {
      "image/png": "[encoded data removed]",
      "text/latex": [
       "$\\displaystyle 16.9583333333333$"
      ],
      "text/plain": [
       "16.9583333333333"
      ]
     },
     "execution_count": 237,
     "metadata": {},
     "output_type": "execute_result"
    }
   ],
   "source": [
    "integrate(x**2, (x, -2, 3.5))"
   ]
  },
  {
   "cell_type": "code",
   "execution_count": 242,
   "metadata": {},
   "outputs": [
    {
     "data": {
      "image/png": "[encoded data removed]",
      "text/latex": [
       "$\\displaystyle - \\frac{81}{4}$"
      ],
      "text/plain": [
       "-81/4"
      ]
     },
     "execution_count": 242,
     "metadata": {},
     "output_type": "execute_result"
    }
   ],
   "source": [
    "integrate(x**3, (x, -3, 0))"
   ]
  },
  {
   "cell_type": "code",
   "execution_count": 244,
   "metadata": {},
   "outputs": [
    {
     "data": {
      "image/png": "[encoded data removed]",
      "text/latex": [
       "$\\displaystyle 18$"
      ],
      "text/plain": [
       "18"
      ]
     },
     "execution_count": 244,
     "metadata": {},
     "output_type": "execute_result"
    }
   ],
   "source": [
    "integrate(x**2, (x, -3, 3))"
   ]
  },
  {
   "cell_type": "markdown",
   "metadata": {},
   "source": [
    "### Integral Indefinida"
   ]
  },
  {
   "cell_type": "code",
   "execution_count": 15,
   "metadata": {},
   "outputs": [],
   "source": [
    "# Função que nos possibilita calcular área"
   ]
  },
  {
   "cell_type": "markdown",
   "metadata": {},
   "source": [
    "$$\\int f(x)\\ dx$$"
   ]
  },
  {
   "cell_type": "code",
   "execution_count": 238,
   "metadata": {},
   "outputs": [
    {
     "data": {
      "image/png": "[encoded data removed]",
      "text/latex": [
       "$\\displaystyle \\frac{x^{3}}{3}$"
      ],
      "text/plain": [
       " 3\n",
       "x \n",
       "──\n",
       "3 "
      ]
     },
     "execution_count": 238,
     "metadata": {},
     "output_type": "execute_result"
    }
   ],
   "source": [
    "integrate(x**2, x)"
   ]
  },
  {
   "cell_type": "code",
   "execution_count": 4,
   "metadata": {},
   "outputs": [
    {
     "data": {
      "image/png": "[encoded data removed]",
      "text/latex": [
       "$\\displaystyle \\left( \\frac{x^{3}}{3}, \\  - \\cos{\\left(x \\right)}\\right)$"
      ],
      "text/plain": [
       "⎛ 3         ⎞\n",
       "⎜x          ⎟\n",
       "⎜──, -cos(x)⎟\n",
       "⎝3          ⎠"
      ]
     },
     "execution_count": 4,
     "metadata": {},
     "output_type": "execute_result"
    }
   ],
   "source": [
    "(integrate(x**2), integrate(sin(x)))"
   ]
  },
  {
   "cell_type": "code",
   "execution_count": 5,
   "metadata": {},
   "outputs": [
    {
     "data": {
      "image/png": "[encoded data removed]",
      "text/latex": [
       "$\\displaystyle \\left( x^{2}, \\  \\sin{\\left(x \\right)}\\right)$"
      ],
      "text/plain": [
       "⎛ 2        ⎞\n",
       "⎝x , sin(x)⎠"
      ]
     },
     "execution_count": 5,
     "metadata": {},
     "output_type": "execute_result"
    }
   ],
   "source": [
    "(diff(x**3 / 3, x), diff(-cos(x), x))"
   ]
  },
  {
   "cell_type": "code",
   "execution_count": 239,
   "metadata": {},
   "outputs": [
    {
     "data": {
      "image/png": "[encoded data removed]",
      "text/latex": [
       "$\\displaystyle x^{2}$"
      ],
      "text/plain": [
       " 2\n",
       "x "
      ]
     },
     "execution_count": 239,
     "metadata": {},
     "output_type": "execute_result"
    }
   ],
   "source": [
    "diff(x**3 / 3, x)"
   ]
  },
  {
   "cell_type": "code",
   "execution_count": 16,
   "metadata": {},
   "outputs": [],
   "source": [
    "# Exemplo acima de operações inversas (entre derivadas e integrais)"
   ]
  },
  {
   "cell_type": "code",
   "execution_count": 245,
   "metadata": {},
   "outputs": [
    {
     "data": {
      "image/png": "[encoded data removed]",
      "text/latex": [
       "$\\displaystyle x^{2}$"
      ],
      "text/plain": [
       " 2\n",
       "x "
      ]
     },
     "execution_count": 245,
     "metadata": {},
     "output_type": "execute_result"
    }
   ],
   "source": [
    "diff(integrate(x**2, x), x)"
   ]
  },
  {
   "cell_type": "code",
   "execution_count": 247,
   "metadata": {},
   "outputs": [
    {
     "data": {
      "image/png": "[encoded data removed]",
      "text/latex": [
       "$\\displaystyle \\frac{x^{3}}{3}$"
      ],
      "text/plain": [
       " 3\n",
       "x \n",
       "──\n",
       "3 "
      ]
     },
     "execution_count": 247,
     "metadata": {},
     "output_type": "execute_result"
    }
   ],
   "source": [
    "integrate(diff(x**3 / 3, x), x)"
   ]
  },
  {
   "cell_type": "markdown",
   "metadata": {},
   "source": [
    "$$\\int x^2\\ dx = \\frac{x^3}{3} + C$$"
   ]
  },
  {
   "cell_type": "code",
   "execution_count": 249,
   "metadata": {},
   "outputs": [
    {
     "data": {
      "image/png": "[encoded data removed]",
      "text/latex": [
       "$\\displaystyle x^{2}$"
      ],
      "text/plain": [
       " 2\n",
       "x "
      ]
     },
     "execution_count": 249,
     "metadata": {},
     "output_type": "execute_result"
    }
   ],
   "source": [
    "diff(x**3 / 3)"
   ]
  },
  {
   "cell_type": "code",
   "execution_count": 241,
   "metadata": {},
   "outputs": [
    {
     "data": {
      "image/png": "[encoded data removed]",
      "text/latex": [
       "$\\displaystyle x^{2}$"
      ],
      "text/plain": [
       " 2\n",
       "x "
      ]
     },
     "execution_count": 241,
     "metadata": {},
     "output_type": "execute_result"
    }
   ],
   "source": [
    "diff((x**3 / 3) + 4567, x)"
   ]
  },
  {
   "cell_type": "markdown",
   "metadata": {},
   "source": [
    "1. Determine a seguinte integral indefinida:\n",
    "  - $\\int (x^3 - 4x^2 + 6x + 3)\\ dx$"
   ]
  },
  {
   "cell_type": "code",
   "execution_count": 250,
   "metadata": {},
   "outputs": [
    {
     "data": {
      "image/png": "[encoded data removed]",
      "text/latex": [
       "$\\displaystyle \\frac{x^{4}}{4} - \\frac{4 x^{3}}{3} + 3 x^{2} + 3 x$"
      ],
      "text/plain": [
       " 4      3             \n",
       "x    4⋅x       2      \n",
       "── - ──── + 3⋅x  + 3⋅x\n",
       "4     3               "
      ]
     },
     "execution_count": 250,
     "metadata": {},
     "output_type": "execute_result"
    }
   ],
   "source": [
    "#1\n",
    "integrate(x**3 - 4*x**2 + 6*x + 3, x)"
   ]
  },
  {
   "cell_type": "code",
   "execution_count": 18,
   "metadata": {},
   "outputs": [],
   "source": [
    "# Outros exercícios de integrais indefinidas"
   ]
  },
  {
   "cell_type": "code",
   "execution_count": 21,
   "metadata": {},
   "outputs": [
    {
     "data": {
      "image/png": "[encoded data removed]",
      "text/latex": [
       "$\\displaystyle \\sin{\\left(2 \\right)}$"
      ],
      "text/plain": [
       "sin(2)"
      ]
     },
     "execution_count": 21,
     "metadata": {},
     "output_type": "execute_result"
    }
   ],
   "source": [
    "integrate(cos(x), (x, 0, 2))"
   ]
  },
  {
   "cell_type": "code",
   "execution_count": 22,
   "metadata": {},
   "outputs": [
    {
     "data": {
      "image/png": "[encoded data removed]",
      "text/latex": [
       "$\\displaystyle \\frac{e^{2 x}}{2}$"
      ],
      "text/plain": [
       " 2⋅x\n",
       "ℯ   \n",
       "────\n",
       " 2  "
      ]
     },
     "execution_count": 22,
     "metadata": {},
     "output_type": "execute_result"
    }
   ],
   "source": [
    "integrate(exp(2*x))"
   ]
  },
  {
   "cell_type": "code",
   "execution_count": 23,
   "metadata": {},
   "outputs": [
    {
     "data": {
      "image/png": "[encoded data removed]",
      "text/latex": [
       "$\\displaystyle e^{x}$"
      ],
      "text/plain": [
       " x\n",
       "ℯ "
      ]
     },
     "execution_count": 23,
     "metadata": {},
     "output_type": "execute_result"
    }
   ],
   "source": [
    "diff(exp(x))"
   ]
  },
  {
   "cell_type": "markdown",
   "metadata": {},
   "source": [
    "1. Formule uma regra geral para determinar as integrais indefinidas a seguir, sabendo que $n \\in \\mathbb{N}$:\n",
    "  - $x, x^2, x^3, x^4, \\cdots, x^n$"
   ]
  },
  {
   "cell_type": "code",
   "execution_count": 252,
   "metadata": {},
   "outputs": [
    {
     "data": {
      "image/png": "[encoded data removed]",
      "text/latex": [
       "$\\displaystyle \\left( x, \\  \\frac{x^{2}}{2}, \\  \\frac{x^{3}}{3}, \\  \\frac{x^{4}}{4}, \\  \\frac{x^{5}}{5}, \\  \\frac{x^{6}}{6}\\right)$"
      ],
      "text/plain": [
       "⎛    2   3   4   5   6⎞\n",
       "⎜   x   x   x   x   x ⎟\n",
       "⎜x, ──, ──, ──, ──, ──⎟\n",
       "⎝   2   3   4   5   6 ⎠"
      ]
     },
     "execution_count": 252,
     "metadata": {},
     "output_type": "execute_result"
    }
   ],
   "source": [
    "(integrate(1, x), integrate(x, x), integrate(x**2, x), integrate(x**3, x), integrate(x**4, x), integrate(x**5, x))"
   ]
  },
  {
   "cell_type": "markdown",
   "metadata": {},
   "source": [
    "### **AULA 29/05/2020**"
   ]
  },
  {
   "cell_type": "code",
   "execution_count": 25,
   "metadata": {},
   "outputs": [
    {
     "data": {
      "image/png": "[encoded data removed]",
      "text/latex": [
       "$\\displaystyle \\frac{1}{3}$"
      ],
      "text/plain": [
       "1/3"
      ]
     },
     "execution_count": 25,
     "metadata": {},
     "output_type": "execute_result"
    }
   ],
   "source": [
    "# Para integral definida\n",
    "#1\n",
    "integrate(x**2, (x, 0, 1))"
   ]
  },
  {
   "cell_type": "markdown",
   "metadata": {},
   "source": [
    "$\\int_{-3}^{3}$ Resolvendo abaixo:"
   ]
  },
  {
   "cell_type": "code",
   "execution_count": 26,
   "metadata": {},
   "outputs": [
    {
     "data": {
      "image/png": "[encoded data removed]",
      "text/latex": [
       "$\\displaystyle 2 \\sin{\\left(3 \\right)}$"
      ],
      "text/plain": [
       "2⋅sin(3)"
      ]
     },
     "execution_count": 26,
     "metadata": {},
     "output_type": "execute_result"
    }
   ],
   "source": [
    "# Sendo -3 limite inferior, 3 superior (no caso: $\\int_{-3}^{3}$ )\n",
    "integrate(sin(x)+cos(x), (x, -3, 3))"
   ]
  },
  {
   "cell_type": "code",
   "execution_count": 215,
   "metadata": {},
   "outputs": [
    {
     "data": {
      "image/png": "[encoded data removed]",
      "text/latex": [
       "$\\displaystyle \\sin{\\left(x \\right)}$"
      ],
      "text/plain": [
       "sin(x)"
      ]
     },
     "execution_count": 215,
     "metadata": {},
     "output_type": "execute_result"
    }
   ],
   "source": [
    "integrate(cos(x), x)"
   ]
  },
  {
   "cell_type": "code",
   "execution_count": 216,
   "metadata": {},
   "outputs": [
    {
     "data": {
      "image/png": "[encoded data removed]",
      "text/latex": [
       "$\\displaystyle e^{x}$"
      ],
      "text/plain": [
       " x\n",
       "ℯ "
      ]
     },
     "execution_count": 216,
     "metadata": {},
     "output_type": "execute_result"
    }
   ],
   "source": [
    "integrate(exp(x))"
   ]
  },
  {
   "cell_type": "code",
   "execution_count": 217,
   "metadata": {},
   "outputs": [
    {
     "data": {
      "image/png": "[encoded data removed]",
      "text/latex": [
       "$\\displaystyle e^{x}$"
      ],
      "text/plain": [
       " x\n",
       "ℯ "
      ]
     },
     "execution_count": 217,
     "metadata": {},
     "output_type": "execute_result"
    }
   ],
   "source": [
    "diff(exp(x))"
   ]
  },
  {
   "cell_type": "markdown",
   "metadata": {},
   "source": [
    "### **AULA - 04/06/2020**"
   ]
  },
  {
   "cell_type": "code",
   "execution_count": 30,
   "metadata": {},
   "outputs": [
    {
     "data": {
      "image/png": "[encoded data removed]",
      "text/latex": [
       "$\\displaystyle -0.9899924966004454$"
      ],
      "text/plain": [
       "-0.9899924966004454"
      ]
     },
     "execution_count": 30,
     "metadata": {},
     "output_type": "execute_result"
    }
   ],
   "source": [
    "# Para saber o valor do cosseno de 3 por exemplo:\n",
    "np.cos(3)"
   ]
  },
  {
   "cell_type": "markdown",
   "metadata": {},
   "source": [
    "1. Formule uma regra geral para determinar as integrais indefinidas a seguir, sabendo que $n \\in \\mathbb{N}$:\n",
    "  - $\\int x^n \\ dx$\n",
    "  - $\\int e^{nx} \\ dx$\n",
    "  - $\\int \\frac{1}{x^n} \\ dx$\n",
    "  - $\\int \\mathrm{sin}(n x)\\ dx$"
   ]
  },
  {
   "cell_type": "markdown",
   "metadata": {},
   "source": [
    "$\\int x^7\\ dx= \\frac{x^8}{8} + \\mathrm{C}\\quad\\quad\\quad \\int x^n\\ dx =\n",
    "\\frac{x^{n+1}}{n+1} + \\mathrm{C}$"
   ]
  },
  {
   "cell_type": "markdown",
   "metadata": {},
   "source": [
    "$\\int e^{40x} \\ dx$"
   ]
  },
  {
   "cell_type": "code",
   "execution_count": 31,
   "metadata": {},
   "outputs": [
    {
     "data": {
      "image/png": "[encoded data removed]",
      "text/latex": [
       "$\\displaystyle \\left[ \\frac{x^{2}}{2}, \\  \\frac{x^{3}}{3}, \\  \\frac{x^{4}}{4}, \\  \\frac{x^{5}}{5}\\right]$"
      ],
      "text/plain": [
       "⎡ 2   3   4   5⎤\n",
       "⎢x   x   x   x ⎥\n",
       "⎢──, ──, ──, ──⎥\n",
       "⎣2   3   4   5 ⎦"
      ]
     },
     "execution_count": 31,
     "metadata": {},
     "output_type": "execute_result"
    }
   ],
   "source": [
    "list(map(integrate,  [x**1, x**2, x**3, x**4]))"
   ]
  },
  {
   "cell_type": "code",
   "execution_count": 32,
   "metadata": {},
   "outputs": [
    {
     "data": {
      "image/png": "[encoded data removed]",
      "text/latex": [
       "$\\displaystyle \\left[ \\frac{x^{2}}{2}, \\  \\frac{x^{3}}{3}, \\  \\frac{x^{4}}{4}, \\  \\frac{x^{5}}{5}, \\  \\frac{x^{6}}{6}, \\  \\frac{x^{7}}{7}, \\  \\frac{x^{8}}{8}, \\  \\frac{x^{9}}{9}\\right]$"
      ],
      "text/plain": [
       "⎡ 2   3   4   5   6   7   8   9⎤\n",
       "⎢x   x   x   x   x   x   x   x ⎥\n",
       "⎢──, ──, ──, ──, ──, ──, ──, ──⎥\n",
       "⎣2   3   4   5   6   7   8   9 ⎦"
      ]
     },
     "execution_count": 32,
     "metadata": {},
     "output_type": "execute_result"
    }
   ],
   "source": [
    "n = 8\n",
    "list(map(integrate, [x**i for i in range(1, n+1)]))"
   ]
  },
  {
   "cell_type": "markdown",
   "metadata": {},
   "source": [
    "Qual é o padrão para $\\int e^{nx} \\ dx$ ?"
   ]
  },
  {
   "cell_type": "markdown",
   "metadata": {},
   "source": [
    "$e^{nx} = {e^{nx}/n}$"
   ]
  },
  {
   "cell_type": "code",
   "execution_count": 34,
   "metadata": {},
   "outputs": [],
   "source": [
    "# Forma que Cientista da Computação busca padrões (escreve funções com parâmetros)\n",
    "def padrao(f, n):\n",
    "    return list(map(integrate, [f(i) for i in range(1, n+1)]))"
   ]
  },
  {
   "cell_type": "code",
   "execution_count": 35,
   "metadata": {},
   "outputs": [
    {
     "data": {
      "image/png": "[encoded data removed]",
      "text/latex": [
       "$\\displaystyle \\left[ \\frac{x^{2}}{2}, \\  \\frac{x^{3}}{3}, \\  \\frac{x^{4}}{4}, \\  \\frac{x^{5}}{5}\\right]$"
      ],
      "text/plain": [
       "⎡ 2   3   4   5⎤\n",
       "⎢x   x   x   x ⎥\n",
       "⎢──, ──, ──, ──⎥\n",
       "⎣2   3   4   5 ⎦"
      ]
     },
     "execution_count": 35,
     "metadata": {},
     "output_type": "execute_result"
    }
   ],
   "source": [
    "padrao(lambda i: x**i, 4)"
   ]
  },
  {
   "cell_type": "code",
   "execution_count": 36,
   "metadata": {},
   "outputs": [
    {
     "data": {
      "image/png": "[encoded data removed]",
      "text/latex": [
       "$\\displaystyle \\left[ \\left( 1, \\  e^{x}\\right), \\  \\left( 2, \\  \\frac{e^{2 x}}{2}\\right), \\  \\left( 3, \\  \\frac{e^{3 x}}{3}\\right), \\  \\left( 4, \\  \\frac{e^{4 x}}{4}\\right), \\  \\left( 5, \\  \\frac{e^{5 x}}{5}\\right), \\  \\left( 6, \\  \\frac{e^{6 x}}{6}\\right), \\  \\left( 7, \\  \\frac{e^{7 x}}{7}\\right), \\  \\left( 8, \\  \\frac{e^{8 x}}{8}\\right), \\  \\left( 9, \\  \\frac{e^{9 x}}{9}\\right)\\right]$"
      ],
      "text/plain": [
       "⎡         ⎛    2⋅x⎞  ⎛    3⋅x⎞  ⎛    4⋅x⎞  ⎛    5⋅x⎞  ⎛    6⋅x⎞  ⎛    7⋅x⎞  ⎛ \n",
       "⎢⎛    x⎞  ⎜   ℯ   ⎟  ⎜   ℯ   ⎟  ⎜   ℯ   ⎟  ⎜   ℯ   ⎟  ⎜   ℯ   ⎟  ⎜   ℯ   ⎟  ⎜ \n",
       "⎢⎝1, ℯ ⎠, ⎜2, ────⎟, ⎜3, ────⎟, ⎜4, ────⎟, ⎜5, ────⎟, ⎜6, ────⎟, ⎜7, ────⎟, ⎜8\n",
       "⎣         ⎝    2  ⎠  ⎝    3  ⎠  ⎝    4  ⎠  ⎝    5  ⎠  ⎝    6  ⎠  ⎝    7  ⎠  ⎝ \n",
       "\n",
       "   8⋅x⎞  ⎛    9⋅x⎞⎤\n",
       "  ℯ   ⎟  ⎜   ℯ   ⎟⎥\n",
       ", ────⎟, ⎜9, ────⎟⎥\n",
       "   8  ⎠  ⎝    9  ⎠⎦"
      ]
     },
     "execution_count": 36,
     "metadata": {},
     "output_type": "execute_result"
    }
   ],
   "source": [
    "# Perceba 'n' para entender o padrão:\n",
    "k = 10\n",
    "[(n,integrate(exp(n*x))) for n in range(1, k)]"
   ]
  },
  {
   "cell_type": "code",
   "execution_count": 37,
   "metadata": {},
   "outputs": [
    {
     "data": {
      "image/png": "[encoded data removed]",
      "text/latex": [
       "$\\displaystyle \\left[ e^{x}, \\  \\frac{e^{2 x}}{2}, \\  \\frac{e^{3 x}}{3}, \\  \\frac{e^{4 x}}{4}, \\  \\frac{e^{5 x}}{5}, \\  \\frac{e^{6 x}}{6}, \\  \\frac{e^{7 x}}{7}, \\  \\frac{e^{8 x}}{8}, \\  \\frac{e^{9 x}}{9}\\right]$"
      ],
      "text/plain": [
       "⎡     2⋅x   3⋅x   4⋅x   5⋅x   6⋅x   7⋅x   8⋅x   9⋅x⎤\n",
       "⎢ x  ℯ     ℯ     ℯ     ℯ     ℯ     ℯ     ℯ     ℯ   ⎥\n",
       "⎢ℯ , ────, ────, ────, ────, ────, ────, ────, ────⎥\n",
       "⎣     2     3     4     5     6     7     8     9  ⎦"
      ]
     },
     "execution_count": 37,
     "metadata": {},
     "output_type": "execute_result"
    }
   ],
   "source": [
    "k = 10\n",
    "[integrate(exp(n*x)) for n in range(1, k)]"
   ]
  },
  {
   "cell_type": "code",
   "execution_count": 38,
   "metadata": {},
   "outputs": [
    {
     "data": {
      "image/png": "[encoded data removed]",
      "text/latex": [
       "$\\displaystyle \\left[ e^{x}, \\  \\frac{e^{2 x}}{2}, \\  \\frac{e^{3 x}}{3}, \\  \\frac{e^{4 x}}{4}, \\  \\frac{e^{5 x}}{5}, \\  \\frac{e^{6 x}}{6}, \\  \\frac{e^{7 x}}{7}, \\  \\frac{e^{8 x}}{8}, \\  \\frac{e^{9 x}}{9}\\right]$"
      ],
      "text/plain": [
       "⎡     2⋅x   3⋅x   4⋅x   5⋅x   6⋅x   7⋅x   8⋅x   9⋅x⎤\n",
       "⎢ x  ℯ     ℯ     ℯ     ℯ     ℯ     ℯ     ℯ     ℯ   ⎥\n",
       "⎢ℯ , ────, ────, ────, ────, ────, ────, ────, ────⎥\n",
       "⎣     2     3     4     5     6     7     8     9  ⎦"
      ]
     },
     "execution_count": 38,
     "metadata": {},
     "output_type": "execute_result"
    }
   ],
   "source": [
    "# Utilizando a função \"padrao(lambda i: x**i, 4)\" para procurar um padrão no exemplo manual acima.\n",
    "padrao(lambda i:exp(i*x), 9)"
   ]
  },
  {
   "cell_type": "markdown",
   "metadata": {},
   "source": [
    "### Conceituando Matemática"
   ]
  },
  {
   "cell_type": "markdown",
   "metadata": {},
   "source": [
    "*Integral Definida* --- Se $f$ é uma função contínua definida no intervalo $a \\leq x \\leq b$, dividimos o intervalo $[a, b]$ em $n$ subintervalos de comprimentos iguais $\\Delta x = (b - a)/ n$.\n",
    "\n",
    "Sejam $x_{0}, x_{1}, x_{2}, \\ldots, x_{n}$ (em que $x_{0} = a$ e $x_{n} = b$) as extremidades desses subintervalos, escolhemos os *pontos amostrais*  $x_{1}^{*}, x_{2}^{*}, x_{3}^{*}, \\ldots, x_{n}^{*}$ nesses subintervalos, tal que $x_{i}^{*}$ esteja no $i$-ésimo subintervalo $[x_{i - 1}, x_{i}]$. Então a integral definida de $f$ de $a$ a $b$} é\n",
    "$$\\int\\nolimits_{a}^{b} f(x)\\ dx = \\lim_{n\\to \\infty} \\sum_{i = 1}^{n} f(x_{i}^{*})\\ \\Delta x$$\n",
    "desde que este limite exista. Se o limite existir, diz-se que $f$ é integrável em $[a, b]$."
   ]
  },
  {
   "cell_type": "code",
   "execution_count": 39,
   "metadata": {},
   "outputs": [],
   "source": [
    "def integralRiemann(f, a, b, n):\n",
    "    deltaX = (b-a)/n\n",
    "    areasRetangulos = [f(a+contaRetangulo*deltaX)*deltaX for contaRetangulo in range(n)]\n",
    "    return sum(areasRetangulos)"
   ]
  },
  {
   "cell_type": "code",
   "execution_count": 40,
   "metadata": {},
   "outputs": [
    {
     "data": {
      "image/png": "[encoded data removed]",
      "text/latex": [
       "$\\displaystyle 0.33332833334999745$"
      ],
      "text/plain": [
       "0.33332833334999745"
      ]
     },
     "execution_count": 40,
     "metadata": {},
     "output_type": "execute_result"
    }
   ],
   "source": [
    "integralRiemann(lambda x: x**2, 0, 1, 100000)"
   ]
  },
  {
   "cell_type": "markdown",
   "metadata": {},
   "source": [
    "### Exemplo:"
   ]
  },
  {
   "cell_type": "markdown",
   "metadata": {},
   "source": [
    "$f(x) = x^2$, $a=1, b=11, n=5, \\Delta x = 2$"
   ]
  },
  {
   "cell_type": "markdown",
   "metadata": {},
   "source": [
    "$\\sum_{i = 1}^{5} f(x_{i}^{*})\\ \\Delta x = [(1)^2\\times 2] + [(3)^2\\times 2] + [(5)^2\\times 2]  + [(7)^2\\times 2]  + [(9)^2\\times 2]  $"
   ]
  },
  {
   "cell_type": "markdown",
   "metadata": {},
   "source": [
    "A definição acima de integral se deve a *Bernhard Riemann* (1826 -- 1866). O símbolo $\\int$, o **sinal de integral** foi introduzido por *Leibniz*, um dos criadores do cálculo, para indicar que a integral é um limite de somas."
   ]
  }
 ],
 "metadata": {
  "kernelspec": {
   "display_name": "Python 3",
   "language": "python",
   "name": "python3"
  },
  "language_info": {
   "codemirror_mode": {
    "name": "ipython",
    "version": 3
   },
   "file_extension": ".py",
   "mimetype": "text/x-python",
   "name": "python",
   "nbconvert_exporter": "python",
   "pygments_lexer": "ipython3",
   "version": "3.7.4"
  }
 },
 "nbformat": 4,
 "nbformat_minor": 4
}
